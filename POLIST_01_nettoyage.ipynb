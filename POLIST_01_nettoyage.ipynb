{
 "cells": [
  {
   "cell_type": "code",
   "execution_count": 1,
   "id": "2936acc4",
   "metadata": {},
   "outputs": [],
   "source": [
    "import pandas as pd\n",
    "import numpy as np\n",
    "import matplotlib.pyplot as plt"
   ]
  },
  {
   "cell_type": "code",
   "execution_count": 2,
   "id": "407816c6",
   "metadata": {},
   "outputs": [],
   "source": [
    "pd.set_option('max_columns', None)\n",
    "pd.set_option('display.width', None)\n",
    "pd.set_option('display.max_colwidth', None)"
   ]
  },
  {
   "cell_type": "markdown",
   "id": "2c3f373e",
   "metadata": {},
   "source": [
    "# Création du dataset"
   ]
  },
  {
   "cell_type": "code",
   "execution_count": 3,
   "id": "c401dfe0",
   "metadata": {
    "scrolled": true
   },
   "outputs": [
    {
     "data": {
      "text/html": [
       "<div>\n",
       "<style scoped>\n",
       "    .dataframe tbody tr th:only-of-type {\n",
       "        vertical-align: middle;\n",
       "    }\n",
       "\n",
       "    .dataframe tbody tr th {\n",
       "        vertical-align: top;\n",
       "    }\n",
       "\n",
       "    .dataframe thead th {\n",
       "        text-align: right;\n",
       "    }\n",
       "</style>\n",
       "<table border=\"1\" class=\"dataframe\">\n",
       "  <thead>\n",
       "    <tr style=\"text-align: right;\">\n",
       "      <th></th>\n",
       "      <th>customer_id</th>\n",
       "      <th>customer_unique_id</th>\n",
       "      <th>customer_zip_code_prefix</th>\n",
       "      <th>customer_city</th>\n",
       "      <th>customer_state</th>\n",
       "    </tr>\n",
       "  </thead>\n",
       "  <tbody>\n",
       "    <tr>\n",
       "      <th>0</th>\n",
       "      <td>06b8999e2fba1a1fbc88172c00ba8bc7</td>\n",
       "      <td>861eff4711a542e4b93843c6dd7febb0</td>\n",
       "      <td>14409</td>\n",
       "      <td>franca</td>\n",
       "      <td>SP</td>\n",
       "    </tr>\n",
       "    <tr>\n",
       "      <th>1</th>\n",
       "      <td>18955e83d337fd6b2def6b18a428ac77</td>\n",
       "      <td>290c77bc529b7ac935b93aa66c333dc3</td>\n",
       "      <td>9790</td>\n",
       "      <td>sao bernardo do campo</td>\n",
       "      <td>SP</td>\n",
       "    </tr>\n",
       "    <tr>\n",
       "      <th>2</th>\n",
       "      <td>4e7b3e00288586ebd08712fdd0374a03</td>\n",
       "      <td>060e732b5b29e8181a18229c7b0b2b5e</td>\n",
       "      <td>1151</td>\n",
       "      <td>sao paulo</td>\n",
       "      <td>SP</td>\n",
       "    </tr>\n",
       "    <tr>\n",
       "      <th>3</th>\n",
       "      <td>b2b6027bc5c5109e529d4dc6358b12c3</td>\n",
       "      <td>259dac757896d24d7702b9acbbff3f3c</td>\n",
       "      <td>8775</td>\n",
       "      <td>mogi das cruzes</td>\n",
       "      <td>SP</td>\n",
       "    </tr>\n",
       "    <tr>\n",
       "      <th>4</th>\n",
       "      <td>4f2d8ab171c80ec8364f7c12e35b23ad</td>\n",
       "      <td>345ecd01c38d18a9036ed96c73b8d066</td>\n",
       "      <td>13056</td>\n",
       "      <td>campinas</td>\n",
       "      <td>SP</td>\n",
       "    </tr>\n",
       "    <tr>\n",
       "      <th>...</th>\n",
       "      <td>...</td>\n",
       "      <td>...</td>\n",
       "      <td>...</td>\n",
       "      <td>...</td>\n",
       "      <td>...</td>\n",
       "    </tr>\n",
       "    <tr>\n",
       "      <th>99436</th>\n",
       "      <td>17ddf5dd5d51696bb3d7c6291687be6f</td>\n",
       "      <td>1a29b476fee25c95fbafc67c5ac95cf8</td>\n",
       "      <td>3937</td>\n",
       "      <td>sao paulo</td>\n",
       "      <td>SP</td>\n",
       "    </tr>\n",
       "    <tr>\n",
       "      <th>99437</th>\n",
       "      <td>e7b71a9017aa05c9a7fd292d714858e8</td>\n",
       "      <td>d52a67c98be1cf6a5c84435bd38d095d</td>\n",
       "      <td>6764</td>\n",
       "      <td>taboao da serra</td>\n",
       "      <td>SP</td>\n",
       "    </tr>\n",
       "    <tr>\n",
       "      <th>99438</th>\n",
       "      <td>5e28dfe12db7fb50a4b2f691faecea5e</td>\n",
       "      <td>e9f50caf99f032f0bf3c55141f019d99</td>\n",
       "      <td>60115</td>\n",
       "      <td>fortaleza</td>\n",
       "      <td>CE</td>\n",
       "    </tr>\n",
       "    <tr>\n",
       "      <th>99439</th>\n",
       "      <td>56b18e2166679b8a959d72dd06da27f9</td>\n",
       "      <td>73c2643a0a458b49f58cea58833b192e</td>\n",
       "      <td>92120</td>\n",
       "      <td>canoas</td>\n",
       "      <td>RS</td>\n",
       "    </tr>\n",
       "    <tr>\n",
       "      <th>99440</th>\n",
       "      <td>274fa6071e5e17fe303b9748641082c8</td>\n",
       "      <td>84732c5050c01db9b23e19ba39899398</td>\n",
       "      <td>6703</td>\n",
       "      <td>cotia</td>\n",
       "      <td>SP</td>\n",
       "    </tr>\n",
       "  </tbody>\n",
       "</table>\n",
       "<p>99441 rows × 5 columns</p>\n",
       "</div>"
      ],
      "text/plain": [
       "                            customer_id                customer_unique_id  \\\n",
       "0      06b8999e2fba1a1fbc88172c00ba8bc7  861eff4711a542e4b93843c6dd7febb0   \n",
       "1      18955e83d337fd6b2def6b18a428ac77  290c77bc529b7ac935b93aa66c333dc3   \n",
       "2      4e7b3e00288586ebd08712fdd0374a03  060e732b5b29e8181a18229c7b0b2b5e   \n",
       "3      b2b6027bc5c5109e529d4dc6358b12c3  259dac757896d24d7702b9acbbff3f3c   \n",
       "4      4f2d8ab171c80ec8364f7c12e35b23ad  345ecd01c38d18a9036ed96c73b8d066   \n",
       "...                                 ...                               ...   \n",
       "99436  17ddf5dd5d51696bb3d7c6291687be6f  1a29b476fee25c95fbafc67c5ac95cf8   \n",
       "99437  e7b71a9017aa05c9a7fd292d714858e8  d52a67c98be1cf6a5c84435bd38d095d   \n",
       "99438  5e28dfe12db7fb50a4b2f691faecea5e  e9f50caf99f032f0bf3c55141f019d99   \n",
       "99439  56b18e2166679b8a959d72dd06da27f9  73c2643a0a458b49f58cea58833b192e   \n",
       "99440  274fa6071e5e17fe303b9748641082c8  84732c5050c01db9b23e19ba39899398   \n",
       "\n",
       "       customer_zip_code_prefix          customer_city customer_state  \n",
       "0                         14409                 franca             SP  \n",
       "1                          9790  sao bernardo do campo             SP  \n",
       "2                          1151              sao paulo             SP  \n",
       "3                          8775        mogi das cruzes             SP  \n",
       "4                         13056               campinas             SP  \n",
       "...                         ...                    ...            ...  \n",
       "99436                      3937              sao paulo             SP  \n",
       "99437                      6764        taboao da serra             SP  \n",
       "99438                     60115              fortaleza             CE  \n",
       "99439                     92120                 canoas             RS  \n",
       "99440                      6703                  cotia             SP  \n",
       "\n",
       "[99441 rows x 5 columns]"
      ]
     },
     "execution_count": 3,
     "metadata": {},
     "output_type": "execute_result"
    }
   ],
   "source": [
    "customer_dataset = pd.read_csv('dataset/olist_customers_dataset.csv')\n",
    "customer_dataset"
   ]
  },
  {
   "cell_type": "code",
   "execution_count": 4,
   "id": "2058c4fa",
   "metadata": {
    "scrolled": true
   },
   "outputs": [
    {
     "data": {
      "text/html": [
       "<div>\n",
       "<style scoped>\n",
       "    .dataframe tbody tr th:only-of-type {\n",
       "        vertical-align: middle;\n",
       "    }\n",
       "\n",
       "    .dataframe tbody tr th {\n",
       "        vertical-align: top;\n",
       "    }\n",
       "\n",
       "    .dataframe thead th {\n",
       "        text-align: right;\n",
       "    }\n",
       "</style>\n",
       "<table border=\"1\" class=\"dataframe\">\n",
       "  <thead>\n",
       "    <tr style=\"text-align: right;\">\n",
       "      <th></th>\n",
       "      <th>order_id</th>\n",
       "      <th>order_item_id</th>\n",
       "      <th>product_id</th>\n",
       "      <th>seller_id</th>\n",
       "      <th>shipping_limit_date</th>\n",
       "      <th>price</th>\n",
       "      <th>freight_value</th>\n",
       "    </tr>\n",
       "  </thead>\n",
       "  <tbody>\n",
       "    <tr>\n",
       "      <th>0</th>\n",
       "      <td>00010242fe8c5a6d1ba2dd792cb16214</td>\n",
       "      <td>1</td>\n",
       "      <td>4244733e06e7ecb4970a6e2683c13e61</td>\n",
       "      <td>48436dade18ac8b2bce089ec2a041202</td>\n",
       "      <td>2017-09-19 09:45:35</td>\n",
       "      <td>58.90</td>\n",
       "      <td>13.29</td>\n",
       "    </tr>\n",
       "    <tr>\n",
       "      <th>1</th>\n",
       "      <td>00018f77f2f0320c557190d7a144bdd3</td>\n",
       "      <td>1</td>\n",
       "      <td>e5f2d52b802189ee658865ca93d83a8f</td>\n",
       "      <td>dd7ddc04e1b6c2c614352b383efe2d36</td>\n",
       "      <td>2017-05-03 11:05:13</td>\n",
       "      <td>239.90</td>\n",
       "      <td>19.93</td>\n",
       "    </tr>\n",
       "    <tr>\n",
       "      <th>2</th>\n",
       "      <td>000229ec398224ef6ca0657da4fc703e</td>\n",
       "      <td>1</td>\n",
       "      <td>c777355d18b72b67abbeef9df44fd0fd</td>\n",
       "      <td>5b51032eddd242adc84c38acab88f23d</td>\n",
       "      <td>2018-01-18 14:48:30</td>\n",
       "      <td>199.00</td>\n",
       "      <td>17.87</td>\n",
       "    </tr>\n",
       "    <tr>\n",
       "      <th>3</th>\n",
       "      <td>00024acbcdf0a6daa1e931b038114c75</td>\n",
       "      <td>1</td>\n",
       "      <td>7634da152a4610f1595efa32f14722fc</td>\n",
       "      <td>9d7a1d34a5052409006425275ba1c2b4</td>\n",
       "      <td>2018-08-15 10:10:18</td>\n",
       "      <td>12.99</td>\n",
       "      <td>12.79</td>\n",
       "    </tr>\n",
       "    <tr>\n",
       "      <th>4</th>\n",
       "      <td>00042b26cf59d7ce69dfabb4e55b4fd9</td>\n",
       "      <td>1</td>\n",
       "      <td>ac6c3623068f30de03045865e4e10089</td>\n",
       "      <td>df560393f3a51e74553ab94004ba5c87</td>\n",
       "      <td>2017-02-13 13:57:51</td>\n",
       "      <td>199.90</td>\n",
       "      <td>18.14</td>\n",
       "    </tr>\n",
       "    <tr>\n",
       "      <th>...</th>\n",
       "      <td>...</td>\n",
       "      <td>...</td>\n",
       "      <td>...</td>\n",
       "      <td>...</td>\n",
       "      <td>...</td>\n",
       "      <td>...</td>\n",
       "      <td>...</td>\n",
       "    </tr>\n",
       "    <tr>\n",
       "      <th>112645</th>\n",
       "      <td>fffc94f6ce00a00581880bf54a75a037</td>\n",
       "      <td>1</td>\n",
       "      <td>4aa6014eceb682077f9dc4bffebc05b0</td>\n",
       "      <td>b8bc237ba3788b23da09c0f1f3a3288c</td>\n",
       "      <td>2018-05-02 04:11:01</td>\n",
       "      <td>299.99</td>\n",
       "      <td>43.41</td>\n",
       "    </tr>\n",
       "    <tr>\n",
       "      <th>112646</th>\n",
       "      <td>fffcd46ef2263f404302a634eb57f7eb</td>\n",
       "      <td>1</td>\n",
       "      <td>32e07fd915822b0765e448c4dd74c828</td>\n",
       "      <td>f3c38ab652836d21de61fb8314b69182</td>\n",
       "      <td>2018-07-20 04:31:48</td>\n",
       "      <td>350.00</td>\n",
       "      <td>36.53</td>\n",
       "    </tr>\n",
       "    <tr>\n",
       "      <th>112647</th>\n",
       "      <td>fffce4705a9662cd70adb13d4a31832d</td>\n",
       "      <td>1</td>\n",
       "      <td>72a30483855e2eafc67aee5dc2560482</td>\n",
       "      <td>c3cfdc648177fdbbbb35635a37472c53</td>\n",
       "      <td>2017-10-30 17:14:25</td>\n",
       "      <td>99.90</td>\n",
       "      <td>16.95</td>\n",
       "    </tr>\n",
       "    <tr>\n",
       "      <th>112648</th>\n",
       "      <td>fffe18544ffabc95dfada21779c9644f</td>\n",
       "      <td>1</td>\n",
       "      <td>9c422a519119dcad7575db5af1ba540e</td>\n",
       "      <td>2b3e4a2a3ea8e01938cabda2a3e5cc79</td>\n",
       "      <td>2017-08-21 00:04:32</td>\n",
       "      <td>55.99</td>\n",
       "      <td>8.72</td>\n",
       "    </tr>\n",
       "    <tr>\n",
       "      <th>112649</th>\n",
       "      <td>fffe41c64501cc87c801fd61db3f6244</td>\n",
       "      <td>1</td>\n",
       "      <td>350688d9dc1e75ff97be326363655e01</td>\n",
       "      <td>f7ccf836d21b2fb1de37564105216cc1</td>\n",
       "      <td>2018-06-12 17:10:13</td>\n",
       "      <td>43.00</td>\n",
       "      <td>12.79</td>\n",
       "    </tr>\n",
       "  </tbody>\n",
       "</table>\n",
       "<p>112650 rows × 7 columns</p>\n",
       "</div>"
      ],
      "text/plain": [
       "                                order_id  order_item_id  \\\n",
       "0       00010242fe8c5a6d1ba2dd792cb16214              1   \n",
       "1       00018f77f2f0320c557190d7a144bdd3              1   \n",
       "2       000229ec398224ef6ca0657da4fc703e              1   \n",
       "3       00024acbcdf0a6daa1e931b038114c75              1   \n",
       "4       00042b26cf59d7ce69dfabb4e55b4fd9              1   \n",
       "...                                  ...            ...   \n",
       "112645  fffc94f6ce00a00581880bf54a75a037              1   \n",
       "112646  fffcd46ef2263f404302a634eb57f7eb              1   \n",
       "112647  fffce4705a9662cd70adb13d4a31832d              1   \n",
       "112648  fffe18544ffabc95dfada21779c9644f              1   \n",
       "112649  fffe41c64501cc87c801fd61db3f6244              1   \n",
       "\n",
       "                              product_id                         seller_id  \\\n",
       "0       4244733e06e7ecb4970a6e2683c13e61  48436dade18ac8b2bce089ec2a041202   \n",
       "1       e5f2d52b802189ee658865ca93d83a8f  dd7ddc04e1b6c2c614352b383efe2d36   \n",
       "2       c777355d18b72b67abbeef9df44fd0fd  5b51032eddd242adc84c38acab88f23d   \n",
       "3       7634da152a4610f1595efa32f14722fc  9d7a1d34a5052409006425275ba1c2b4   \n",
       "4       ac6c3623068f30de03045865e4e10089  df560393f3a51e74553ab94004ba5c87   \n",
       "...                                  ...                               ...   \n",
       "112645  4aa6014eceb682077f9dc4bffebc05b0  b8bc237ba3788b23da09c0f1f3a3288c   \n",
       "112646  32e07fd915822b0765e448c4dd74c828  f3c38ab652836d21de61fb8314b69182   \n",
       "112647  72a30483855e2eafc67aee5dc2560482  c3cfdc648177fdbbbb35635a37472c53   \n",
       "112648  9c422a519119dcad7575db5af1ba540e  2b3e4a2a3ea8e01938cabda2a3e5cc79   \n",
       "112649  350688d9dc1e75ff97be326363655e01  f7ccf836d21b2fb1de37564105216cc1   \n",
       "\n",
       "        shipping_limit_date   price  freight_value  \n",
       "0       2017-09-19 09:45:35   58.90          13.29  \n",
       "1       2017-05-03 11:05:13  239.90          19.93  \n",
       "2       2018-01-18 14:48:30  199.00          17.87  \n",
       "3       2018-08-15 10:10:18   12.99          12.79  \n",
       "4       2017-02-13 13:57:51  199.90          18.14  \n",
       "...                     ...     ...            ...  \n",
       "112645  2018-05-02 04:11:01  299.99          43.41  \n",
       "112646  2018-07-20 04:31:48  350.00          36.53  \n",
       "112647  2017-10-30 17:14:25   99.90          16.95  \n",
       "112648  2017-08-21 00:04:32   55.99           8.72  \n",
       "112649  2018-06-12 17:10:13   43.00          12.79  \n",
       "\n",
       "[112650 rows x 7 columns]"
      ]
     },
     "execution_count": 4,
     "metadata": {},
     "output_type": "execute_result"
    }
   ],
   "source": [
    "order_items_dataset = pd.read_csv('dataset/olist_order_items_dataset.csv')\n",
    "order_items_dataset"
   ]
  },
  {
   "cell_type": "code",
   "execution_count": 5,
   "id": "93f3640e",
   "metadata": {
    "scrolled": true
   },
   "outputs": [
    {
     "name": "stdout",
     "output_type": "stream",
     "text": [
      "<class 'pandas.core.frame.DataFrame'>\n",
      "RangeIndex: 103886 entries, 0 to 103885\n",
      "Data columns (total 5 columns):\n",
      " #   Column                Non-Null Count   Dtype  \n",
      "---  ------                --------------   -----  \n",
      " 0   order_id              103886 non-null  object \n",
      " 1   payment_sequential    103886 non-null  int64  \n",
      " 2   payment_type          103886 non-null  object \n",
      " 3   payment_installments  103886 non-null  int64  \n",
      " 4   payment_value         103886 non-null  float64\n",
      "dtypes: float64(1), int64(2), object(2)\n",
      "memory usage: 4.0+ MB\n"
     ]
    }
   ],
   "source": [
    "payment_dataset = pd.read_csv('dataset/olist_order_payments_dataset.csv')\n",
    "payment_dataset.info()"
   ]
  },
  {
   "cell_type": "code",
   "execution_count": 6,
   "id": "240b3f1b",
   "metadata": {
    "scrolled": true
   },
   "outputs": [
    {
     "data": {
      "text/html": [
       "<div>\n",
       "<style scoped>\n",
       "    .dataframe tbody tr th:only-of-type {\n",
       "        vertical-align: middle;\n",
       "    }\n",
       "\n",
       "    .dataframe tbody tr th {\n",
       "        vertical-align: top;\n",
       "    }\n",
       "\n",
       "    .dataframe thead th {\n",
       "        text-align: right;\n",
       "    }\n",
       "</style>\n",
       "<table border=\"1\" class=\"dataframe\">\n",
       "  <thead>\n",
       "    <tr style=\"text-align: right;\">\n",
       "      <th></th>\n",
       "      <th>review_id</th>\n",
       "      <th>order_id</th>\n",
       "      <th>review_score</th>\n",
       "      <th>review_comment_title</th>\n",
       "      <th>review_comment_message</th>\n",
       "      <th>review_creation_date</th>\n",
       "      <th>review_answer_timestamp</th>\n",
       "    </tr>\n",
       "  </thead>\n",
       "  <tbody>\n",
       "    <tr>\n",
       "      <th>0</th>\n",
       "      <td>7bc2406110b926393aa56f80a40eba40</td>\n",
       "      <td>73fc7af87114b39712e6da79b0a377eb</td>\n",
       "      <td>4</td>\n",
       "      <td>NaN</td>\n",
       "      <td>NaN</td>\n",
       "      <td>2018-01-18 00:00:00</td>\n",
       "      <td>2018-01-18 21:46:59</td>\n",
       "    </tr>\n",
       "    <tr>\n",
       "      <th>1</th>\n",
       "      <td>80e641a11e56f04c1ad469d5645fdfde</td>\n",
       "      <td>a548910a1c6147796b98fdf73dbeba33</td>\n",
       "      <td>5</td>\n",
       "      <td>NaN</td>\n",
       "      <td>NaN</td>\n",
       "      <td>2018-03-10 00:00:00</td>\n",
       "      <td>2018-03-11 03:05:13</td>\n",
       "    </tr>\n",
       "    <tr>\n",
       "      <th>2</th>\n",
       "      <td>228ce5500dc1d8e020d8d1322874b6f0</td>\n",
       "      <td>f9e4b658b201a9f2ecdecbb34bed034b</td>\n",
       "      <td>5</td>\n",
       "      <td>NaN</td>\n",
       "      <td>NaN</td>\n",
       "      <td>2018-02-17 00:00:00</td>\n",
       "      <td>2018-02-18 14:36:24</td>\n",
       "    </tr>\n",
       "    <tr>\n",
       "      <th>3</th>\n",
       "      <td>e64fb393e7b32834bb789ff8bb30750e</td>\n",
       "      <td>658677c97b385a9be170737859d3511b</td>\n",
       "      <td>5</td>\n",
       "      <td>NaN</td>\n",
       "      <td>Recebi bem antes do prazo estipulado.</td>\n",
       "      <td>2017-04-21 00:00:00</td>\n",
       "      <td>2017-04-21 22:02:06</td>\n",
       "    </tr>\n",
       "    <tr>\n",
       "      <th>4</th>\n",
       "      <td>f7c4243c7fe1938f181bec41a392bdeb</td>\n",
       "      <td>8e6bfb81e283fa7e4f11123a3fb894f1</td>\n",
       "      <td>5</td>\n",
       "      <td>NaN</td>\n",
       "      <td>Parabéns lojas lannister adorei comprar pela Internet seguro e prático Parabéns a todos feliz Páscoa</td>\n",
       "      <td>2018-03-01 00:00:00</td>\n",
       "      <td>2018-03-02 10:26:53</td>\n",
       "    </tr>\n",
       "    <tr>\n",
       "      <th>...</th>\n",
       "      <td>...</td>\n",
       "      <td>...</td>\n",
       "      <td>...</td>\n",
       "      <td>...</td>\n",
       "      <td>...</td>\n",
       "      <td>...</td>\n",
       "      <td>...</td>\n",
       "    </tr>\n",
       "    <tr>\n",
       "      <th>99219</th>\n",
       "      <td>574ed12dd733e5fa530cfd4bbf39d7c9</td>\n",
       "      <td>2a8c23fee101d4d5662fa670396eb8da</td>\n",
       "      <td>5</td>\n",
       "      <td>NaN</td>\n",
       "      <td>NaN</td>\n",
       "      <td>2018-07-07 00:00:00</td>\n",
       "      <td>2018-07-14 17:18:30</td>\n",
       "    </tr>\n",
       "    <tr>\n",
       "      <th>99220</th>\n",
       "      <td>f3897127253a9592a73be9bdfdf4ed7a</td>\n",
       "      <td>22ec9f0669f784db00fa86d035cf8602</td>\n",
       "      <td>5</td>\n",
       "      <td>NaN</td>\n",
       "      <td>NaN</td>\n",
       "      <td>2017-12-09 00:00:00</td>\n",
       "      <td>2017-12-11 20:06:42</td>\n",
       "    </tr>\n",
       "    <tr>\n",
       "      <th>99221</th>\n",
       "      <td>b3de70c89b1510c4cd3d0649fd302472</td>\n",
       "      <td>55d4004744368f5571d1f590031933e4</td>\n",
       "      <td>5</td>\n",
       "      <td>NaN</td>\n",
       "      <td>Excelente mochila, entrega super rápida. Super recomendo essa loja!</td>\n",
       "      <td>2018-03-22 00:00:00</td>\n",
       "      <td>2018-03-23 09:10:43</td>\n",
       "    </tr>\n",
       "    <tr>\n",
       "      <th>99222</th>\n",
       "      <td>1adeb9d84d72fe4e337617733eb85149</td>\n",
       "      <td>7725825d039fc1f0ceb7635e3f7d9206</td>\n",
       "      <td>4</td>\n",
       "      <td>NaN</td>\n",
       "      <td>NaN</td>\n",
       "      <td>2018-07-01 00:00:00</td>\n",
       "      <td>2018-07-02 12:59:13</td>\n",
       "    </tr>\n",
       "    <tr>\n",
       "      <th>99223</th>\n",
       "      <td>efe49f1d6f951dd88b51e6ccd4cc548f</td>\n",
       "      <td>90531360ecb1eec2a1fbb265a0db0508</td>\n",
       "      <td>1</td>\n",
       "      <td>NaN</td>\n",
       "      <td>meu produto chegou e ja tenho que devolver, pois está com defeito , não segurar carga</td>\n",
       "      <td>2017-07-03 00:00:00</td>\n",
       "      <td>2017-07-03 21:01:49</td>\n",
       "    </tr>\n",
       "  </tbody>\n",
       "</table>\n",
       "<p>99224 rows × 7 columns</p>\n",
       "</div>"
      ],
      "text/plain": [
       "                              review_id                          order_id  \\\n",
       "0      7bc2406110b926393aa56f80a40eba40  73fc7af87114b39712e6da79b0a377eb   \n",
       "1      80e641a11e56f04c1ad469d5645fdfde  a548910a1c6147796b98fdf73dbeba33   \n",
       "2      228ce5500dc1d8e020d8d1322874b6f0  f9e4b658b201a9f2ecdecbb34bed034b   \n",
       "3      e64fb393e7b32834bb789ff8bb30750e  658677c97b385a9be170737859d3511b   \n",
       "4      f7c4243c7fe1938f181bec41a392bdeb  8e6bfb81e283fa7e4f11123a3fb894f1   \n",
       "...                                 ...                               ...   \n",
       "99219  574ed12dd733e5fa530cfd4bbf39d7c9  2a8c23fee101d4d5662fa670396eb8da   \n",
       "99220  f3897127253a9592a73be9bdfdf4ed7a  22ec9f0669f784db00fa86d035cf8602   \n",
       "99221  b3de70c89b1510c4cd3d0649fd302472  55d4004744368f5571d1f590031933e4   \n",
       "99222  1adeb9d84d72fe4e337617733eb85149  7725825d039fc1f0ceb7635e3f7d9206   \n",
       "99223  efe49f1d6f951dd88b51e6ccd4cc548f  90531360ecb1eec2a1fbb265a0db0508   \n",
       "\n",
       "       review_score review_comment_title  \\\n",
       "0                 4                  NaN   \n",
       "1                 5                  NaN   \n",
       "2                 5                  NaN   \n",
       "3                 5                  NaN   \n",
       "4                 5                  NaN   \n",
       "...             ...                  ...   \n",
       "99219             5                  NaN   \n",
       "99220             5                  NaN   \n",
       "99221             5                  NaN   \n",
       "99222             4                  NaN   \n",
       "99223             1                  NaN   \n",
       "\n",
       "                                                                                     review_comment_message  \\\n",
       "0                                                                                                       NaN   \n",
       "1                                                                                                       NaN   \n",
       "2                                                                                                       NaN   \n",
       "3                                                                     Recebi bem antes do prazo estipulado.   \n",
       "4      Parabéns lojas lannister adorei comprar pela Internet seguro e prático Parabéns a todos feliz Páscoa   \n",
       "...                                                                                                     ...   \n",
       "99219                                                                                                   NaN   \n",
       "99220                                                                                                   NaN   \n",
       "99221                                   Excelente mochila, entrega super rápida. Super recomendo essa loja!   \n",
       "99222                                                                                                   NaN   \n",
       "99223                 meu produto chegou e ja tenho que devolver, pois está com defeito , não segurar carga   \n",
       "\n",
       "      review_creation_date review_answer_timestamp  \n",
       "0      2018-01-18 00:00:00     2018-01-18 21:46:59  \n",
       "1      2018-03-10 00:00:00     2018-03-11 03:05:13  \n",
       "2      2018-02-17 00:00:00     2018-02-18 14:36:24  \n",
       "3      2017-04-21 00:00:00     2017-04-21 22:02:06  \n",
       "4      2018-03-01 00:00:00     2018-03-02 10:26:53  \n",
       "...                    ...                     ...  \n",
       "99219  2018-07-07 00:00:00     2018-07-14 17:18:30  \n",
       "99220  2017-12-09 00:00:00     2017-12-11 20:06:42  \n",
       "99221  2018-03-22 00:00:00     2018-03-23 09:10:43  \n",
       "99222  2018-07-01 00:00:00     2018-07-02 12:59:13  \n",
       "99223  2017-07-03 00:00:00     2017-07-03 21:01:49  \n",
       "\n",
       "[99224 rows x 7 columns]"
      ]
     },
     "execution_count": 6,
     "metadata": {},
     "output_type": "execute_result"
    }
   ],
   "source": [
    "review_dataset = pd.read_csv('dataset/olist_order_reviews_dataset.csv')\n",
    "review_dataset"
   ]
  },
  {
   "cell_type": "code",
   "execution_count": 7,
   "id": "9fbd34ab",
   "metadata": {
    "scrolled": true
   },
   "outputs": [
    {
     "name": "stdout",
     "output_type": "stream",
     "text": [
      "<class 'pandas.core.frame.DataFrame'>\n",
      "RangeIndex: 99441 entries, 0 to 99440\n",
      "Data columns (total 8 columns):\n",
      " #   Column                         Non-Null Count  Dtype \n",
      "---  ------                         --------------  ----- \n",
      " 0   order_id                       99441 non-null  object\n",
      " 1   customer_id                    99441 non-null  object\n",
      " 2   order_status                   99441 non-null  object\n",
      " 3   order_purchase_timestamp       99441 non-null  object\n",
      " 4   order_approved_at              99281 non-null  object\n",
      " 5   order_delivered_carrier_date   97658 non-null  object\n",
      " 6   order_delivered_customer_date  96476 non-null  object\n",
      " 7   order_estimated_delivery_date  99441 non-null  object\n",
      "dtypes: object(8)\n",
      "memory usage: 6.1+ MB\n"
     ]
    }
   ],
   "source": [
    "order_dataset = pd.read_csv('dataset/olist_orders_dataset.csv')\n",
    "order_dataset.info()"
   ]
  },
  {
   "cell_type": "code",
   "execution_count": 8,
   "id": "a8a7ed55",
   "metadata": {
    "scrolled": true
   },
   "outputs": [
    {
     "data": {
      "text/html": [
       "<div>\n",
       "<style scoped>\n",
       "    .dataframe tbody tr th:only-of-type {\n",
       "        vertical-align: middle;\n",
       "    }\n",
       "\n",
       "    .dataframe tbody tr th {\n",
       "        vertical-align: top;\n",
       "    }\n",
       "\n",
       "    .dataframe thead th {\n",
       "        text-align: right;\n",
       "    }\n",
       "</style>\n",
       "<table border=\"1\" class=\"dataframe\">\n",
       "  <thead>\n",
       "    <tr style=\"text-align: right;\">\n",
       "      <th></th>\n",
       "      <th>product_id</th>\n",
       "      <th>product_category_name</th>\n",
       "      <th>product_name_lenght</th>\n",
       "      <th>product_description_lenght</th>\n",
       "      <th>product_photos_qty</th>\n",
       "      <th>product_weight_g</th>\n",
       "      <th>product_length_cm</th>\n",
       "      <th>product_height_cm</th>\n",
       "      <th>product_width_cm</th>\n",
       "    </tr>\n",
       "  </thead>\n",
       "  <tbody>\n",
       "    <tr>\n",
       "      <th>0</th>\n",
       "      <td>1e9e8ef04dbcff4541ed26657ea517e5</td>\n",
       "      <td>perfumaria</td>\n",
       "      <td>40.0</td>\n",
       "      <td>287.0</td>\n",
       "      <td>1.0</td>\n",
       "      <td>225.0</td>\n",
       "      <td>16.0</td>\n",
       "      <td>10.0</td>\n",
       "      <td>14.0</td>\n",
       "    </tr>\n",
       "    <tr>\n",
       "      <th>1</th>\n",
       "      <td>3aa071139cb16b67ca9e5dea641aaa2f</td>\n",
       "      <td>artes</td>\n",
       "      <td>44.0</td>\n",
       "      <td>276.0</td>\n",
       "      <td>1.0</td>\n",
       "      <td>1000.0</td>\n",
       "      <td>30.0</td>\n",
       "      <td>18.0</td>\n",
       "      <td>20.0</td>\n",
       "    </tr>\n",
       "    <tr>\n",
       "      <th>2</th>\n",
       "      <td>96bd76ec8810374ed1b65e291975717f</td>\n",
       "      <td>esporte_lazer</td>\n",
       "      <td>46.0</td>\n",
       "      <td>250.0</td>\n",
       "      <td>1.0</td>\n",
       "      <td>154.0</td>\n",
       "      <td>18.0</td>\n",
       "      <td>9.0</td>\n",
       "      <td>15.0</td>\n",
       "    </tr>\n",
       "    <tr>\n",
       "      <th>3</th>\n",
       "      <td>cef67bcfe19066a932b7673e239eb23d</td>\n",
       "      <td>bebes</td>\n",
       "      <td>27.0</td>\n",
       "      <td>261.0</td>\n",
       "      <td>1.0</td>\n",
       "      <td>371.0</td>\n",
       "      <td>26.0</td>\n",
       "      <td>4.0</td>\n",
       "      <td>26.0</td>\n",
       "    </tr>\n",
       "    <tr>\n",
       "      <th>4</th>\n",
       "      <td>9dc1a7de274444849c219cff195d0b71</td>\n",
       "      <td>utilidades_domesticas</td>\n",
       "      <td>37.0</td>\n",
       "      <td>402.0</td>\n",
       "      <td>4.0</td>\n",
       "      <td>625.0</td>\n",
       "      <td>20.0</td>\n",
       "      <td>17.0</td>\n",
       "      <td>13.0</td>\n",
       "    </tr>\n",
       "    <tr>\n",
       "      <th>...</th>\n",
       "      <td>...</td>\n",
       "      <td>...</td>\n",
       "      <td>...</td>\n",
       "      <td>...</td>\n",
       "      <td>...</td>\n",
       "      <td>...</td>\n",
       "      <td>...</td>\n",
       "      <td>...</td>\n",
       "      <td>...</td>\n",
       "    </tr>\n",
       "    <tr>\n",
       "      <th>32946</th>\n",
       "      <td>a0b7d5a992ccda646f2d34e418fff5a0</td>\n",
       "      <td>moveis_decoracao</td>\n",
       "      <td>45.0</td>\n",
       "      <td>67.0</td>\n",
       "      <td>2.0</td>\n",
       "      <td>12300.0</td>\n",
       "      <td>40.0</td>\n",
       "      <td>40.0</td>\n",
       "      <td>40.0</td>\n",
       "    </tr>\n",
       "    <tr>\n",
       "      <th>32947</th>\n",
       "      <td>bf4538d88321d0fd4412a93c974510e6</td>\n",
       "      <td>construcao_ferramentas_iluminacao</td>\n",
       "      <td>41.0</td>\n",
       "      <td>971.0</td>\n",
       "      <td>1.0</td>\n",
       "      <td>1700.0</td>\n",
       "      <td>16.0</td>\n",
       "      <td>19.0</td>\n",
       "      <td>16.0</td>\n",
       "    </tr>\n",
       "    <tr>\n",
       "      <th>32948</th>\n",
       "      <td>9a7c6041fa9592d9d9ef6cfe62a71f8c</td>\n",
       "      <td>cama_mesa_banho</td>\n",
       "      <td>50.0</td>\n",
       "      <td>799.0</td>\n",
       "      <td>1.0</td>\n",
       "      <td>1400.0</td>\n",
       "      <td>27.0</td>\n",
       "      <td>7.0</td>\n",
       "      <td>27.0</td>\n",
       "    </tr>\n",
       "    <tr>\n",
       "      <th>32949</th>\n",
       "      <td>83808703fc0706a22e264b9d75f04a2e</td>\n",
       "      <td>informatica_acessorios</td>\n",
       "      <td>60.0</td>\n",
       "      <td>156.0</td>\n",
       "      <td>2.0</td>\n",
       "      <td>700.0</td>\n",
       "      <td>31.0</td>\n",
       "      <td>13.0</td>\n",
       "      <td>20.0</td>\n",
       "    </tr>\n",
       "    <tr>\n",
       "      <th>32950</th>\n",
       "      <td>106392145fca363410d287a815be6de4</td>\n",
       "      <td>cama_mesa_banho</td>\n",
       "      <td>58.0</td>\n",
       "      <td>309.0</td>\n",
       "      <td>1.0</td>\n",
       "      <td>2083.0</td>\n",
       "      <td>12.0</td>\n",
       "      <td>2.0</td>\n",
       "      <td>7.0</td>\n",
       "    </tr>\n",
       "  </tbody>\n",
       "</table>\n",
       "<p>32951 rows × 9 columns</p>\n",
       "</div>"
      ],
      "text/plain": [
       "                             product_id              product_category_name  \\\n",
       "0      1e9e8ef04dbcff4541ed26657ea517e5                         perfumaria   \n",
       "1      3aa071139cb16b67ca9e5dea641aaa2f                              artes   \n",
       "2      96bd76ec8810374ed1b65e291975717f                      esporte_lazer   \n",
       "3      cef67bcfe19066a932b7673e239eb23d                              bebes   \n",
       "4      9dc1a7de274444849c219cff195d0b71              utilidades_domesticas   \n",
       "...                                 ...                                ...   \n",
       "32946  a0b7d5a992ccda646f2d34e418fff5a0                   moveis_decoracao   \n",
       "32947  bf4538d88321d0fd4412a93c974510e6  construcao_ferramentas_iluminacao   \n",
       "32948  9a7c6041fa9592d9d9ef6cfe62a71f8c                    cama_mesa_banho   \n",
       "32949  83808703fc0706a22e264b9d75f04a2e             informatica_acessorios   \n",
       "32950  106392145fca363410d287a815be6de4                    cama_mesa_banho   \n",
       "\n",
       "       product_name_lenght  product_description_lenght  product_photos_qty  \\\n",
       "0                     40.0                       287.0                 1.0   \n",
       "1                     44.0                       276.0                 1.0   \n",
       "2                     46.0                       250.0                 1.0   \n",
       "3                     27.0                       261.0                 1.0   \n",
       "4                     37.0                       402.0                 4.0   \n",
       "...                    ...                         ...                 ...   \n",
       "32946                 45.0                        67.0                 2.0   \n",
       "32947                 41.0                       971.0                 1.0   \n",
       "32948                 50.0                       799.0                 1.0   \n",
       "32949                 60.0                       156.0                 2.0   \n",
       "32950                 58.0                       309.0                 1.0   \n",
       "\n",
       "       product_weight_g  product_length_cm  product_height_cm  \\\n",
       "0                 225.0               16.0               10.0   \n",
       "1                1000.0               30.0               18.0   \n",
       "2                 154.0               18.0                9.0   \n",
       "3                 371.0               26.0                4.0   \n",
       "4                 625.0               20.0               17.0   \n",
       "...                 ...                ...                ...   \n",
       "32946           12300.0               40.0               40.0   \n",
       "32947            1700.0               16.0               19.0   \n",
       "32948            1400.0               27.0                7.0   \n",
       "32949             700.0               31.0               13.0   \n",
       "32950            2083.0               12.0                2.0   \n",
       "\n",
       "       product_width_cm  \n",
       "0                  14.0  \n",
       "1                  20.0  \n",
       "2                  15.0  \n",
       "3                  26.0  \n",
       "4                  13.0  \n",
       "...                 ...  \n",
       "32946              40.0  \n",
       "32947              16.0  \n",
       "32948              27.0  \n",
       "32949              20.0  \n",
       "32950               7.0  \n",
       "\n",
       "[32951 rows x 9 columns]"
      ]
     },
     "execution_count": 8,
     "metadata": {},
     "output_type": "execute_result"
    }
   ],
   "source": [
    "products_dataset = pd.read_csv('dataset/olist_products_dataset.csv')\n",
    "products_dataset"
   ]
  },
  {
   "cell_type": "code",
   "execution_count": 9,
   "id": "58b23d15",
   "metadata": {
    "scrolled": false
   },
   "outputs": [
    {
     "data": {
      "text/html": [
       "<div>\n",
       "<style scoped>\n",
       "    .dataframe tbody tr th:only-of-type {\n",
       "        vertical-align: middle;\n",
       "    }\n",
       "\n",
       "    .dataframe tbody tr th {\n",
       "        vertical-align: top;\n",
       "    }\n",
       "\n",
       "    .dataframe thead th {\n",
       "        text-align: right;\n",
       "    }\n",
       "</style>\n",
       "<table border=\"1\" class=\"dataframe\">\n",
       "  <thead>\n",
       "    <tr style=\"text-align: right;\">\n",
       "      <th></th>\n",
       "      <th>seller_id</th>\n",
       "      <th>seller_zip_code_prefix</th>\n",
       "      <th>seller_city</th>\n",
       "      <th>seller_state</th>\n",
       "    </tr>\n",
       "  </thead>\n",
       "  <tbody>\n",
       "    <tr>\n",
       "      <th>0</th>\n",
       "      <td>3442f8959a84dea7ee197c632cb2df15</td>\n",
       "      <td>13023</td>\n",
       "      <td>campinas</td>\n",
       "      <td>SP</td>\n",
       "    </tr>\n",
       "    <tr>\n",
       "      <th>1</th>\n",
       "      <td>d1b65fc7debc3361ea86b5f14c68d2e2</td>\n",
       "      <td>13844</td>\n",
       "      <td>mogi guacu</td>\n",
       "      <td>SP</td>\n",
       "    </tr>\n",
       "    <tr>\n",
       "      <th>2</th>\n",
       "      <td>ce3ad9de960102d0677a81f5d0bb7b2d</td>\n",
       "      <td>20031</td>\n",
       "      <td>rio de janeiro</td>\n",
       "      <td>RJ</td>\n",
       "    </tr>\n",
       "    <tr>\n",
       "      <th>3</th>\n",
       "      <td>c0f3eea2e14555b6faeea3dd58c1b1c3</td>\n",
       "      <td>4195</td>\n",
       "      <td>sao paulo</td>\n",
       "      <td>SP</td>\n",
       "    </tr>\n",
       "    <tr>\n",
       "      <th>4</th>\n",
       "      <td>51a04a8a6bdcb23deccc82b0b80742cf</td>\n",
       "      <td>12914</td>\n",
       "      <td>braganca paulista</td>\n",
       "      <td>SP</td>\n",
       "    </tr>\n",
       "    <tr>\n",
       "      <th>...</th>\n",
       "      <td>...</td>\n",
       "      <td>...</td>\n",
       "      <td>...</td>\n",
       "      <td>...</td>\n",
       "    </tr>\n",
       "    <tr>\n",
       "      <th>3090</th>\n",
       "      <td>98dddbc4601dd4443ca174359b237166</td>\n",
       "      <td>87111</td>\n",
       "      <td>sarandi</td>\n",
       "      <td>PR</td>\n",
       "    </tr>\n",
       "    <tr>\n",
       "      <th>3091</th>\n",
       "      <td>f8201cab383e484733266d1906e2fdfa</td>\n",
       "      <td>88137</td>\n",
       "      <td>palhoca</td>\n",
       "      <td>SC</td>\n",
       "    </tr>\n",
       "    <tr>\n",
       "      <th>3092</th>\n",
       "      <td>74871d19219c7d518d0090283e03c137</td>\n",
       "      <td>4650</td>\n",
       "      <td>sao paulo</td>\n",
       "      <td>SP</td>\n",
       "    </tr>\n",
       "    <tr>\n",
       "      <th>3093</th>\n",
       "      <td>e603cf3fec55f8697c9059638d6c8eb5</td>\n",
       "      <td>96080</td>\n",
       "      <td>pelotas</td>\n",
       "      <td>RS</td>\n",
       "    </tr>\n",
       "    <tr>\n",
       "      <th>3094</th>\n",
       "      <td>9e25199f6ef7e7c347120ff175652c3b</td>\n",
       "      <td>12051</td>\n",
       "      <td>taubate</td>\n",
       "      <td>SP</td>\n",
       "    </tr>\n",
       "  </tbody>\n",
       "</table>\n",
       "<p>3095 rows × 4 columns</p>\n",
       "</div>"
      ],
      "text/plain": [
       "                             seller_id  seller_zip_code_prefix  \\\n",
       "0     3442f8959a84dea7ee197c632cb2df15                   13023   \n",
       "1     d1b65fc7debc3361ea86b5f14c68d2e2                   13844   \n",
       "2     ce3ad9de960102d0677a81f5d0bb7b2d                   20031   \n",
       "3     c0f3eea2e14555b6faeea3dd58c1b1c3                    4195   \n",
       "4     51a04a8a6bdcb23deccc82b0b80742cf                   12914   \n",
       "...                                ...                     ...   \n",
       "3090  98dddbc4601dd4443ca174359b237166                   87111   \n",
       "3091  f8201cab383e484733266d1906e2fdfa                   88137   \n",
       "3092  74871d19219c7d518d0090283e03c137                    4650   \n",
       "3093  e603cf3fec55f8697c9059638d6c8eb5                   96080   \n",
       "3094  9e25199f6ef7e7c347120ff175652c3b                   12051   \n",
       "\n",
       "            seller_city seller_state  \n",
       "0              campinas           SP  \n",
       "1            mogi guacu           SP  \n",
       "2        rio de janeiro           RJ  \n",
       "3             sao paulo           SP  \n",
       "4     braganca paulista           SP  \n",
       "...                 ...          ...  \n",
       "3090            sarandi           PR  \n",
       "3091            palhoca           SC  \n",
       "3092          sao paulo           SP  \n",
       "3093            pelotas           RS  \n",
       "3094            taubate           SP  \n",
       "\n",
       "[3095 rows x 4 columns]"
      ]
     },
     "execution_count": 9,
     "metadata": {},
     "output_type": "execute_result"
    }
   ],
   "source": [
    "seller_dataset = pd.read_csv('dataset/olist_sellers_dataset.csv')\n",
    "seller_dataset"
   ]
  },
  {
   "cell_type": "code",
   "execution_count": 10,
   "id": "118747ab",
   "metadata": {
    "scrolled": true
   },
   "outputs": [
    {
     "data": {
      "text/html": [
       "<div>\n",
       "<style scoped>\n",
       "    .dataframe tbody tr th:only-of-type {\n",
       "        vertical-align: middle;\n",
       "    }\n",
       "\n",
       "    .dataframe tbody tr th {\n",
       "        vertical-align: top;\n",
       "    }\n",
       "\n",
       "    .dataframe thead th {\n",
       "        text-align: right;\n",
       "    }\n",
       "</style>\n",
       "<table border=\"1\" class=\"dataframe\">\n",
       "  <thead>\n",
       "    <tr style=\"text-align: right;\">\n",
       "      <th></th>\n",
       "      <th>geolocation_zip_code_prefix</th>\n",
       "      <th>geolocation_lat</th>\n",
       "      <th>geolocation_lng</th>\n",
       "      <th>geolocation_city</th>\n",
       "      <th>geolocation_state</th>\n",
       "    </tr>\n",
       "  </thead>\n",
       "  <tbody>\n",
       "    <tr>\n",
       "      <th>0</th>\n",
       "      <td>1037</td>\n",
       "      <td>-23.545621</td>\n",
       "      <td>-46.639292</td>\n",
       "      <td>sao paulo</td>\n",
       "      <td>SP</td>\n",
       "    </tr>\n",
       "    <tr>\n",
       "      <th>1</th>\n",
       "      <td>1046</td>\n",
       "      <td>-23.546081</td>\n",
       "      <td>-46.644820</td>\n",
       "      <td>sao paulo</td>\n",
       "      <td>SP</td>\n",
       "    </tr>\n",
       "    <tr>\n",
       "      <th>2</th>\n",
       "      <td>1046</td>\n",
       "      <td>-23.546129</td>\n",
       "      <td>-46.642951</td>\n",
       "      <td>sao paulo</td>\n",
       "      <td>SP</td>\n",
       "    </tr>\n",
       "    <tr>\n",
       "      <th>3</th>\n",
       "      <td>1041</td>\n",
       "      <td>-23.544392</td>\n",
       "      <td>-46.639499</td>\n",
       "      <td>sao paulo</td>\n",
       "      <td>SP</td>\n",
       "    </tr>\n",
       "    <tr>\n",
       "      <th>4</th>\n",
       "      <td>1035</td>\n",
       "      <td>-23.541578</td>\n",
       "      <td>-46.641607</td>\n",
       "      <td>sao paulo</td>\n",
       "      <td>SP</td>\n",
       "    </tr>\n",
       "    <tr>\n",
       "      <th>...</th>\n",
       "      <td>...</td>\n",
       "      <td>...</td>\n",
       "      <td>...</td>\n",
       "      <td>...</td>\n",
       "      <td>...</td>\n",
       "    </tr>\n",
       "    <tr>\n",
       "      <th>1000158</th>\n",
       "      <td>99950</td>\n",
       "      <td>-28.068639</td>\n",
       "      <td>-52.010705</td>\n",
       "      <td>tapejara</td>\n",
       "      <td>RS</td>\n",
       "    </tr>\n",
       "    <tr>\n",
       "      <th>1000159</th>\n",
       "      <td>99900</td>\n",
       "      <td>-27.877125</td>\n",
       "      <td>-52.224882</td>\n",
       "      <td>getulio vargas</td>\n",
       "      <td>RS</td>\n",
       "    </tr>\n",
       "    <tr>\n",
       "      <th>1000160</th>\n",
       "      <td>99950</td>\n",
       "      <td>-28.071855</td>\n",
       "      <td>-52.014716</td>\n",
       "      <td>tapejara</td>\n",
       "      <td>RS</td>\n",
       "    </tr>\n",
       "    <tr>\n",
       "      <th>1000161</th>\n",
       "      <td>99980</td>\n",
       "      <td>-28.388932</td>\n",
       "      <td>-51.846871</td>\n",
       "      <td>david canabarro</td>\n",
       "      <td>RS</td>\n",
       "    </tr>\n",
       "    <tr>\n",
       "      <th>1000162</th>\n",
       "      <td>99950</td>\n",
       "      <td>-28.070104</td>\n",
       "      <td>-52.018658</td>\n",
       "      <td>tapejara</td>\n",
       "      <td>RS</td>\n",
       "    </tr>\n",
       "  </tbody>\n",
       "</table>\n",
       "<p>1000163 rows × 5 columns</p>\n",
       "</div>"
      ],
      "text/plain": [
       "         geolocation_zip_code_prefix  geolocation_lat  geolocation_lng  \\\n",
       "0                               1037       -23.545621       -46.639292   \n",
       "1                               1046       -23.546081       -46.644820   \n",
       "2                               1046       -23.546129       -46.642951   \n",
       "3                               1041       -23.544392       -46.639499   \n",
       "4                               1035       -23.541578       -46.641607   \n",
       "...                              ...              ...              ...   \n",
       "1000158                        99950       -28.068639       -52.010705   \n",
       "1000159                        99900       -27.877125       -52.224882   \n",
       "1000160                        99950       -28.071855       -52.014716   \n",
       "1000161                        99980       -28.388932       -51.846871   \n",
       "1000162                        99950       -28.070104       -52.018658   \n",
       "\n",
       "        geolocation_city geolocation_state  \n",
       "0              sao paulo                SP  \n",
       "1              sao paulo                SP  \n",
       "2              sao paulo                SP  \n",
       "3              sao paulo                SP  \n",
       "4              sao paulo                SP  \n",
       "...                  ...               ...  \n",
       "1000158         tapejara                RS  \n",
       "1000159   getulio vargas                RS  \n",
       "1000160         tapejara                RS  \n",
       "1000161  david canabarro                RS  \n",
       "1000162         tapejara                RS  \n",
       "\n",
       "[1000163 rows x 5 columns]"
      ]
     },
     "execution_count": 10,
     "metadata": {},
     "output_type": "execute_result"
    }
   ],
   "source": [
    "geoloc_dataset = pd.read_csv('dataset/olist_geolocation_dataset.csv')\n",
    "geoloc_dataset"
   ]
  },
  {
   "cell_type": "code",
   "execution_count": 11,
   "id": "c42dab63",
   "metadata": {
    "scrolled": true
   },
   "outputs": [
    {
     "data": {
      "text/html": [
       "<div>\n",
       "<style scoped>\n",
       "    .dataframe tbody tr th:only-of-type {\n",
       "        vertical-align: middle;\n",
       "    }\n",
       "\n",
       "    .dataframe tbody tr th {\n",
       "        vertical-align: top;\n",
       "    }\n",
       "\n",
       "    .dataframe thead th {\n",
       "        text-align: right;\n",
       "    }\n",
       "</style>\n",
       "<table border=\"1\" class=\"dataframe\">\n",
       "  <thead>\n",
       "    <tr style=\"text-align: right;\">\n",
       "      <th></th>\n",
       "      <th>order_id</th>\n",
       "      <th>customer_id</th>\n",
       "      <th>order_status</th>\n",
       "      <th>order_purchase_timestamp</th>\n",
       "      <th>order_approved_at</th>\n",
       "      <th>order_delivered_carrier_date</th>\n",
       "      <th>order_delivered_customer_date</th>\n",
       "      <th>order_estimated_delivery_date</th>\n",
       "      <th>payment_sequential</th>\n",
       "      <th>payment_type</th>\n",
       "      <th>payment_installments</th>\n",
       "      <th>payment_value</th>\n",
       "      <th>customer_unique_id</th>\n",
       "      <th>customer_zip_code_prefix</th>\n",
       "      <th>customer_city</th>\n",
       "      <th>customer_state</th>\n",
       "      <th>review_id</th>\n",
       "      <th>review_score</th>\n",
       "      <th>review_comment_title</th>\n",
       "      <th>review_comment_message</th>\n",
       "      <th>review_creation_date</th>\n",
       "      <th>review_answer_timestamp</th>\n",
       "      <th>order_item_id</th>\n",
       "      <th>product_id</th>\n",
       "      <th>seller_id</th>\n",
       "      <th>shipping_limit_date</th>\n",
       "      <th>price</th>\n",
       "      <th>freight_value</th>\n",
       "      <th>product_category_name</th>\n",
       "      <th>product_name_lenght</th>\n",
       "      <th>product_description_lenght</th>\n",
       "      <th>product_photos_qty</th>\n",
       "      <th>product_weight_g</th>\n",
       "      <th>product_length_cm</th>\n",
       "      <th>product_height_cm</th>\n",
       "      <th>product_width_cm</th>\n",
       "      <th>seller_zip_code_prefix</th>\n",
       "      <th>seller_city</th>\n",
       "      <th>seller_state</th>\n",
       "    </tr>\n",
       "  </thead>\n",
       "  <tbody>\n",
       "    <tr>\n",
       "      <th>0</th>\n",
       "      <td>e481f51cbdc54678b7cc49136f2d6af7</td>\n",
       "      <td>9ef432eb6251297304e76186b10a928d</td>\n",
       "      <td>delivered</td>\n",
       "      <td>2017-10-02 10:56:33</td>\n",
       "      <td>2017-10-02 11:07:15</td>\n",
       "      <td>2017-10-04 19:55:00</td>\n",
       "      <td>2017-10-10 21:25:13</td>\n",
       "      <td>2017-10-18 00:00:00</td>\n",
       "      <td>1.0</td>\n",
       "      <td>credit_card</td>\n",
       "      <td>1.0</td>\n",
       "      <td>18.12</td>\n",
       "      <td>7c396fd4830fd04220f754e42b4e5bff</td>\n",
       "      <td>3149</td>\n",
       "      <td>sao paulo</td>\n",
       "      <td>SP</td>\n",
       "      <td>a54f0611adc9ed256b57ede6b6eb5114</td>\n",
       "      <td>4.0</td>\n",
       "      <td>NaN</td>\n",
       "      <td>Não testei o produto ainda, mas ele veio correto e em boas condições. Apenas a caixa que veio bem amassada e danificada, o que ficará chato, pois se trata de um presente.</td>\n",
       "      <td>2017-10-11 00:00:00</td>\n",
       "      <td>2017-10-12 03:43:48</td>\n",
       "      <td>1.0</td>\n",
       "      <td>87285b34884572647811a353c7ac498a</td>\n",
       "      <td>3504c0cb71d7fa48d967e0e4c94d59d9</td>\n",
       "      <td>2017-10-06 11:07:15</td>\n",
       "      <td>29.99</td>\n",
       "      <td>8.72</td>\n",
       "      <td>utilidades_domesticas</td>\n",
       "      <td>40.0</td>\n",
       "      <td>268.0</td>\n",
       "      <td>4.0</td>\n",
       "      <td>500.0</td>\n",
       "      <td>19.0</td>\n",
       "      <td>8.0</td>\n",
       "      <td>13.0</td>\n",
       "      <td>9350.0</td>\n",
       "      <td>maua</td>\n",
       "      <td>SP</td>\n",
       "    </tr>\n",
       "    <tr>\n",
       "      <th>0</th>\n",
       "      <td>e481f51cbdc54678b7cc49136f2d6af7</td>\n",
       "      <td>9ef432eb6251297304e76186b10a928d</td>\n",
       "      <td>delivered</td>\n",
       "      <td>2017-10-02 10:56:33</td>\n",
       "      <td>2017-10-02 11:07:15</td>\n",
       "      <td>2017-10-04 19:55:00</td>\n",
       "      <td>2017-10-10 21:25:13</td>\n",
       "      <td>2017-10-18 00:00:00</td>\n",
       "      <td>3.0</td>\n",
       "      <td>voucher</td>\n",
       "      <td>1.0</td>\n",
       "      <td>2.00</td>\n",
       "      <td>7c396fd4830fd04220f754e42b4e5bff</td>\n",
       "      <td>3149</td>\n",
       "      <td>sao paulo</td>\n",
       "      <td>SP</td>\n",
       "      <td>a54f0611adc9ed256b57ede6b6eb5114</td>\n",
       "      <td>4.0</td>\n",
       "      <td>NaN</td>\n",
       "      <td>Não testei o produto ainda, mas ele veio correto e em boas condições. Apenas a caixa que veio bem amassada e danificada, o que ficará chato, pois se trata de um presente.</td>\n",
       "      <td>2017-10-11 00:00:00</td>\n",
       "      <td>2017-10-12 03:43:48</td>\n",
       "      <td>1.0</td>\n",
       "      <td>87285b34884572647811a353c7ac498a</td>\n",
       "      <td>3504c0cb71d7fa48d967e0e4c94d59d9</td>\n",
       "      <td>2017-10-06 11:07:15</td>\n",
       "      <td>29.99</td>\n",
       "      <td>8.72</td>\n",
       "      <td>utilidades_domesticas</td>\n",
       "      <td>40.0</td>\n",
       "      <td>268.0</td>\n",
       "      <td>4.0</td>\n",
       "      <td>500.0</td>\n",
       "      <td>19.0</td>\n",
       "      <td>8.0</td>\n",
       "      <td>13.0</td>\n",
       "      <td>9350.0</td>\n",
       "      <td>maua</td>\n",
       "      <td>SP</td>\n",
       "    </tr>\n",
       "    <tr>\n",
       "      <th>0</th>\n",
       "      <td>e481f51cbdc54678b7cc49136f2d6af7</td>\n",
       "      <td>9ef432eb6251297304e76186b10a928d</td>\n",
       "      <td>delivered</td>\n",
       "      <td>2017-10-02 10:56:33</td>\n",
       "      <td>2017-10-02 11:07:15</td>\n",
       "      <td>2017-10-04 19:55:00</td>\n",
       "      <td>2017-10-10 21:25:13</td>\n",
       "      <td>2017-10-18 00:00:00</td>\n",
       "      <td>2.0</td>\n",
       "      <td>voucher</td>\n",
       "      <td>1.0</td>\n",
       "      <td>18.59</td>\n",
       "      <td>7c396fd4830fd04220f754e42b4e5bff</td>\n",
       "      <td>3149</td>\n",
       "      <td>sao paulo</td>\n",
       "      <td>SP</td>\n",
       "      <td>a54f0611adc9ed256b57ede6b6eb5114</td>\n",
       "      <td>4.0</td>\n",
       "      <td>NaN</td>\n",
       "      <td>Não testei o produto ainda, mas ele veio correto e em boas condições. Apenas a caixa que veio bem amassada e danificada, o que ficará chato, pois se trata de um presente.</td>\n",
       "      <td>2017-10-11 00:00:00</td>\n",
       "      <td>2017-10-12 03:43:48</td>\n",
       "      <td>1.0</td>\n",
       "      <td>87285b34884572647811a353c7ac498a</td>\n",
       "      <td>3504c0cb71d7fa48d967e0e4c94d59d9</td>\n",
       "      <td>2017-10-06 11:07:15</td>\n",
       "      <td>29.99</td>\n",
       "      <td>8.72</td>\n",
       "      <td>utilidades_domesticas</td>\n",
       "      <td>40.0</td>\n",
       "      <td>268.0</td>\n",
       "      <td>4.0</td>\n",
       "      <td>500.0</td>\n",
       "      <td>19.0</td>\n",
       "      <td>8.0</td>\n",
       "      <td>13.0</td>\n",
       "      <td>9350.0</td>\n",
       "      <td>maua</td>\n",
       "      <td>SP</td>\n",
       "    </tr>\n",
       "    <tr>\n",
       "      <th>1</th>\n",
       "      <td>53cdb2fc8bc7dce0b6741e2150273451</td>\n",
       "      <td>b0830fb4747a6c6d20dea0b8c802d7ef</td>\n",
       "      <td>delivered</td>\n",
       "      <td>2018-07-24 20:41:37</td>\n",
       "      <td>2018-07-26 03:24:27</td>\n",
       "      <td>2018-07-26 14:31:00</td>\n",
       "      <td>2018-08-07 15:27:45</td>\n",
       "      <td>2018-08-13 00:00:00</td>\n",
       "      <td>1.0</td>\n",
       "      <td>boleto</td>\n",
       "      <td>1.0</td>\n",
       "      <td>141.46</td>\n",
       "      <td>af07308b275d755c9edb36a90c618231</td>\n",
       "      <td>47813</td>\n",
       "      <td>barreiras</td>\n",
       "      <td>BA</td>\n",
       "      <td>8d5266042046a06655c8db133d120ba5</td>\n",
       "      <td>4.0</td>\n",
       "      <td>Muito boa a loja</td>\n",
       "      <td>Muito bom o produto.</td>\n",
       "      <td>2018-08-08 00:00:00</td>\n",
       "      <td>2018-08-08 18:37:50</td>\n",
       "      <td>1.0</td>\n",
       "      <td>595fac2a385ac33a80bd5114aec74eb8</td>\n",
       "      <td>289cdb325fb7e7f891c38608bf9e0962</td>\n",
       "      <td>2018-07-30 03:24:27</td>\n",
       "      <td>118.70</td>\n",
       "      <td>22.76</td>\n",
       "      <td>perfumaria</td>\n",
       "      <td>29.0</td>\n",
       "      <td>178.0</td>\n",
       "      <td>1.0</td>\n",
       "      <td>400.0</td>\n",
       "      <td>19.0</td>\n",
       "      <td>13.0</td>\n",
       "      <td>19.0</td>\n",
       "      <td>31570.0</td>\n",
       "      <td>belo horizonte</td>\n",
       "      <td>SP</td>\n",
       "    </tr>\n",
       "    <tr>\n",
       "      <th>2</th>\n",
       "      <td>47770eb9100c2d0c44946d9cf07ec65d</td>\n",
       "      <td>41ce2a54c0b03bf3443c3d931a367089</td>\n",
       "      <td>delivered</td>\n",
       "      <td>2018-08-08 08:38:49</td>\n",
       "      <td>2018-08-08 08:55:23</td>\n",
       "      <td>2018-08-08 13:50:00</td>\n",
       "      <td>2018-08-17 18:06:29</td>\n",
       "      <td>2018-09-04 00:00:00</td>\n",
       "      <td>1.0</td>\n",
       "      <td>credit_card</td>\n",
       "      <td>3.0</td>\n",
       "      <td>179.12</td>\n",
       "      <td>3a653a41f6f9fc3d2a113cf8398680e8</td>\n",
       "      <td>75265</td>\n",
       "      <td>vianopolis</td>\n",
       "      <td>GO</td>\n",
       "      <td>e73b67b67587f7644d5bd1a52deb1b01</td>\n",
       "      <td>5.0</td>\n",
       "      <td>NaN</td>\n",
       "      <td>NaN</td>\n",
       "      <td>2018-08-18 00:00:00</td>\n",
       "      <td>2018-08-22 19:07:58</td>\n",
       "      <td>1.0</td>\n",
       "      <td>aa4383b373c6aca5d8797843e5594415</td>\n",
       "      <td>4869f7a5dfa277a7dca6462dcf3b52b2</td>\n",
       "      <td>2018-08-13 08:55:23</td>\n",
       "      <td>159.90</td>\n",
       "      <td>19.22</td>\n",
       "      <td>automotivo</td>\n",
       "      <td>46.0</td>\n",
       "      <td>232.0</td>\n",
       "      <td>1.0</td>\n",
       "      <td>420.0</td>\n",
       "      <td>24.0</td>\n",
       "      <td>19.0</td>\n",
       "      <td>21.0</td>\n",
       "      <td>14840.0</td>\n",
       "      <td>guariba</td>\n",
       "      <td>SP</td>\n",
       "    </tr>\n",
       "    <tr>\n",
       "      <th>...</th>\n",
       "      <td>...</td>\n",
       "      <td>...</td>\n",
       "      <td>...</td>\n",
       "      <td>...</td>\n",
       "      <td>...</td>\n",
       "      <td>...</td>\n",
       "      <td>...</td>\n",
       "      <td>...</td>\n",
       "      <td>...</td>\n",
       "      <td>...</td>\n",
       "      <td>...</td>\n",
       "      <td>...</td>\n",
       "      <td>...</td>\n",
       "      <td>...</td>\n",
       "      <td>...</td>\n",
       "      <td>...</td>\n",
       "      <td>...</td>\n",
       "      <td>...</td>\n",
       "      <td>...</td>\n",
       "      <td>...</td>\n",
       "      <td>...</td>\n",
       "      <td>...</td>\n",
       "      <td>...</td>\n",
       "      <td>...</td>\n",
       "      <td>...</td>\n",
       "      <td>...</td>\n",
       "      <td>...</td>\n",
       "      <td>...</td>\n",
       "      <td>...</td>\n",
       "      <td>...</td>\n",
       "      <td>...</td>\n",
       "      <td>...</td>\n",
       "      <td>...</td>\n",
       "      <td>...</td>\n",
       "      <td>...</td>\n",
       "      <td>...</td>\n",
       "      <td>...</td>\n",
       "      <td>...</td>\n",
       "      <td>...</td>\n",
       "    </tr>\n",
       "    <tr>\n",
       "      <th>99437</th>\n",
       "      <td>63943bddc261676b46f01ca7ac2f7bd8</td>\n",
       "      <td>1fca14ff2861355f6e5f14306ff977a7</td>\n",
       "      <td>delivered</td>\n",
       "      <td>2018-02-06 12:58:58</td>\n",
       "      <td>2018-02-06 13:10:37</td>\n",
       "      <td>2018-02-07 23:22:42</td>\n",
       "      <td>2018-02-28 17:37:56</td>\n",
       "      <td>2018-03-02 00:00:00</td>\n",
       "      <td>1.0</td>\n",
       "      <td>credit_card</td>\n",
       "      <td>3.0</td>\n",
       "      <td>195.00</td>\n",
       "      <td>da62f9e57a76d978d02ab5362c509660</td>\n",
       "      <td>11722</td>\n",
       "      <td>praia grande</td>\n",
       "      <td>SP</td>\n",
       "      <td>29bb71b2760d0f876dfa178a76bc4734</td>\n",
       "      <td>4.0</td>\n",
       "      <td>NaN</td>\n",
       "      <td>So uma peça que veio rachado mas tudo bem rs</td>\n",
       "      <td>2018-03-01 00:00:00</td>\n",
       "      <td>2018-03-02 17:50:01</td>\n",
       "      <td>1.0</td>\n",
       "      <td>f1d4ce8c6dd66c47bbaa8c6781c2a923</td>\n",
       "      <td>1f9ab4708f3056ede07124aad39a2554</td>\n",
       "      <td>2018-02-12 13:10:37</td>\n",
       "      <td>174.90</td>\n",
       "      <td>20.10</td>\n",
       "      <td>bebes</td>\n",
       "      <td>52.0</td>\n",
       "      <td>828.0</td>\n",
       "      <td>4.0</td>\n",
       "      <td>4950.0</td>\n",
       "      <td>40.0</td>\n",
       "      <td>10.0</td>\n",
       "      <td>40.0</td>\n",
       "      <td>17602.0</td>\n",
       "      <td>tupa</td>\n",
       "      <td>SP</td>\n",
       "    </tr>\n",
       "    <tr>\n",
       "      <th>99438</th>\n",
       "      <td>83c1379a015df1e13d02aae0204711ab</td>\n",
       "      <td>1aa71eb042121263aafbe80c1b562c9c</td>\n",
       "      <td>delivered</td>\n",
       "      <td>2017-08-27 14:46:43</td>\n",
       "      <td>2017-08-27 15:04:16</td>\n",
       "      <td>2017-08-28 20:52:26</td>\n",
       "      <td>2017-09-21 11:24:17</td>\n",
       "      <td>2017-09-27 00:00:00</td>\n",
       "      <td>1.0</td>\n",
       "      <td>credit_card</td>\n",
       "      <td>5.0</td>\n",
       "      <td>271.01</td>\n",
       "      <td>737520a9aad80b3fbbdad19b66b37b30</td>\n",
       "      <td>45920</td>\n",
       "      <td>nova vicosa</td>\n",
       "      <td>BA</td>\n",
       "      <td>371579771219f6db2d830d50805977bb</td>\n",
       "      <td>5.0</td>\n",
       "      <td>NaN</td>\n",
       "      <td>Foi entregue antes do prazo.</td>\n",
       "      <td>2017-09-22 00:00:00</td>\n",
       "      <td>2017-09-22 23:10:57</td>\n",
       "      <td>1.0</td>\n",
       "      <td>b80910977a37536adeddd63663f916ad</td>\n",
       "      <td>d50d79cb34e38265a8649c383dcffd48</td>\n",
       "      <td>2017-09-05 15:04:16</td>\n",
       "      <td>205.99</td>\n",
       "      <td>65.02</td>\n",
       "      <td>eletrodomesticos_2</td>\n",
       "      <td>51.0</td>\n",
       "      <td>500.0</td>\n",
       "      <td>2.0</td>\n",
       "      <td>13300.0</td>\n",
       "      <td>32.0</td>\n",
       "      <td>90.0</td>\n",
       "      <td>22.0</td>\n",
       "      <td>8290.0</td>\n",
       "      <td>sao paulo</td>\n",
       "      <td>SP</td>\n",
       "    </tr>\n",
       "    <tr>\n",
       "      <th>99439</th>\n",
       "      <td>11c177c8e97725db2631073c19f07b62</td>\n",
       "      <td>b331b74b18dc79bcdf6532d51e1637c1</td>\n",
       "      <td>delivered</td>\n",
       "      <td>2018-01-08 21:28:27</td>\n",
       "      <td>2018-01-08 21:36:21</td>\n",
       "      <td>2018-01-12 15:35:03</td>\n",
       "      <td>2018-01-25 23:32:54</td>\n",
       "      <td>2018-02-15 00:00:00</td>\n",
       "      <td>1.0</td>\n",
       "      <td>credit_card</td>\n",
       "      <td>4.0</td>\n",
       "      <td>441.16</td>\n",
       "      <td>5097a5312c8b157bb7be58ae360ef43c</td>\n",
       "      <td>28685</td>\n",
       "      <td>japuiba</td>\n",
       "      <td>RJ</td>\n",
       "      <td>8ab6855b9fe9b812cd03a480a25058a1</td>\n",
       "      <td>2.0</td>\n",
       "      <td>NaN</td>\n",
       "      <td>Foi entregue somente 1. Quero saber do outro produto.</td>\n",
       "      <td>2018-01-26 00:00:00</td>\n",
       "      <td>2018-01-27 09:16:56</td>\n",
       "      <td>1.0</td>\n",
       "      <td>d1c427060a0f73f6b889a5c7c61f2ac4</td>\n",
       "      <td>a1043bafd471dff536d0c462352beb48</td>\n",
       "      <td>2018-01-12 21:36:21</td>\n",
       "      <td>179.99</td>\n",
       "      <td>40.59</td>\n",
       "      <td>informatica_acessorios</td>\n",
       "      <td>59.0</td>\n",
       "      <td>1893.0</td>\n",
       "      <td>1.0</td>\n",
       "      <td>6550.0</td>\n",
       "      <td>20.0</td>\n",
       "      <td>20.0</td>\n",
       "      <td>20.0</td>\n",
       "      <td>37175.0</td>\n",
       "      <td>ilicinea</td>\n",
       "      <td>MG</td>\n",
       "    </tr>\n",
       "    <tr>\n",
       "      <th>99439</th>\n",
       "      <td>11c177c8e97725db2631073c19f07b62</td>\n",
       "      <td>b331b74b18dc79bcdf6532d51e1637c1</td>\n",
       "      <td>delivered</td>\n",
       "      <td>2018-01-08 21:28:27</td>\n",
       "      <td>2018-01-08 21:36:21</td>\n",
       "      <td>2018-01-12 15:35:03</td>\n",
       "      <td>2018-01-25 23:32:54</td>\n",
       "      <td>2018-02-15 00:00:00</td>\n",
       "      <td>1.0</td>\n",
       "      <td>credit_card</td>\n",
       "      <td>4.0</td>\n",
       "      <td>441.16</td>\n",
       "      <td>5097a5312c8b157bb7be58ae360ef43c</td>\n",
       "      <td>28685</td>\n",
       "      <td>japuiba</td>\n",
       "      <td>RJ</td>\n",
       "      <td>8ab6855b9fe9b812cd03a480a25058a1</td>\n",
       "      <td>2.0</td>\n",
       "      <td>NaN</td>\n",
       "      <td>Foi entregue somente 1. Quero saber do outro produto.</td>\n",
       "      <td>2018-01-26 00:00:00</td>\n",
       "      <td>2018-01-27 09:16:56</td>\n",
       "      <td>2.0</td>\n",
       "      <td>d1c427060a0f73f6b889a5c7c61f2ac4</td>\n",
       "      <td>a1043bafd471dff536d0c462352beb48</td>\n",
       "      <td>2018-01-12 21:36:21</td>\n",
       "      <td>179.99</td>\n",
       "      <td>40.59</td>\n",
       "      <td>informatica_acessorios</td>\n",
       "      <td>59.0</td>\n",
       "      <td>1893.0</td>\n",
       "      <td>1.0</td>\n",
       "      <td>6550.0</td>\n",
       "      <td>20.0</td>\n",
       "      <td>20.0</td>\n",
       "      <td>20.0</td>\n",
       "      <td>37175.0</td>\n",
       "      <td>ilicinea</td>\n",
       "      <td>MG</td>\n",
       "    </tr>\n",
       "    <tr>\n",
       "      <th>99440</th>\n",
       "      <td>66dea50a8b16d9b4dee7af250b4be1a5</td>\n",
       "      <td>edb027a75a1449115f6b43211ae02a24</td>\n",
       "      <td>delivered</td>\n",
       "      <td>2018-03-08 20:57:30</td>\n",
       "      <td>2018-03-09 11:20:28</td>\n",
       "      <td>2018-03-09 22:11:59</td>\n",
       "      <td>2018-03-16 13:08:30</td>\n",
       "      <td>2018-04-03 00:00:00</td>\n",
       "      <td>1.0</td>\n",
       "      <td>debit_card</td>\n",
       "      <td>1.0</td>\n",
       "      <td>86.86</td>\n",
       "      <td>60350aa974b26ff12caad89e55993bd6</td>\n",
       "      <td>83750</td>\n",
       "      <td>lapa</td>\n",
       "      <td>PR</td>\n",
       "      <td>dc9c59b4688062c25758c2be4cafc523</td>\n",
       "      <td>5.0</td>\n",
       "      <td>NaN</td>\n",
       "      <td>NaN</td>\n",
       "      <td>2018-03-17 00:00:00</td>\n",
       "      <td>2018-03-17 16:33:31</td>\n",
       "      <td>1.0</td>\n",
       "      <td>006619bbed68b000c8ba3f8725d5409e</td>\n",
       "      <td>ececbfcff9804a2d6b40f589df8eef2b</td>\n",
       "      <td>2018-03-15 10:55:42</td>\n",
       "      <td>68.50</td>\n",
       "      <td>18.36</td>\n",
       "      <td>beleza_saude</td>\n",
       "      <td>45.0</td>\n",
       "      <td>569.0</td>\n",
       "      <td>1.0</td>\n",
       "      <td>150.0</td>\n",
       "      <td>16.0</td>\n",
       "      <td>7.0</td>\n",
       "      <td>15.0</td>\n",
       "      <td>14407.0</td>\n",
       "      <td>franca</td>\n",
       "      <td>SP</td>\n",
       "    </tr>\n",
       "  </tbody>\n",
       "</table>\n",
       "<p>119143 rows × 39 columns</p>\n",
       "</div>"
      ],
      "text/plain": [
       "                               order_id                       customer_id  \\\n",
       "0      e481f51cbdc54678b7cc49136f2d6af7  9ef432eb6251297304e76186b10a928d   \n",
       "0      e481f51cbdc54678b7cc49136f2d6af7  9ef432eb6251297304e76186b10a928d   \n",
       "0      e481f51cbdc54678b7cc49136f2d6af7  9ef432eb6251297304e76186b10a928d   \n",
       "1      53cdb2fc8bc7dce0b6741e2150273451  b0830fb4747a6c6d20dea0b8c802d7ef   \n",
       "2      47770eb9100c2d0c44946d9cf07ec65d  41ce2a54c0b03bf3443c3d931a367089   \n",
       "...                                 ...                               ...   \n",
       "99437  63943bddc261676b46f01ca7ac2f7bd8  1fca14ff2861355f6e5f14306ff977a7   \n",
       "99438  83c1379a015df1e13d02aae0204711ab  1aa71eb042121263aafbe80c1b562c9c   \n",
       "99439  11c177c8e97725db2631073c19f07b62  b331b74b18dc79bcdf6532d51e1637c1   \n",
       "99439  11c177c8e97725db2631073c19f07b62  b331b74b18dc79bcdf6532d51e1637c1   \n",
       "99440  66dea50a8b16d9b4dee7af250b4be1a5  edb027a75a1449115f6b43211ae02a24   \n",
       "\n",
       "      order_status order_purchase_timestamp    order_approved_at  \\\n",
       "0        delivered      2017-10-02 10:56:33  2017-10-02 11:07:15   \n",
       "0        delivered      2017-10-02 10:56:33  2017-10-02 11:07:15   \n",
       "0        delivered      2017-10-02 10:56:33  2017-10-02 11:07:15   \n",
       "1        delivered      2018-07-24 20:41:37  2018-07-26 03:24:27   \n",
       "2        delivered      2018-08-08 08:38:49  2018-08-08 08:55:23   \n",
       "...            ...                      ...                  ...   \n",
       "99437    delivered      2018-02-06 12:58:58  2018-02-06 13:10:37   \n",
       "99438    delivered      2017-08-27 14:46:43  2017-08-27 15:04:16   \n",
       "99439    delivered      2018-01-08 21:28:27  2018-01-08 21:36:21   \n",
       "99439    delivered      2018-01-08 21:28:27  2018-01-08 21:36:21   \n",
       "99440    delivered      2018-03-08 20:57:30  2018-03-09 11:20:28   \n",
       "\n",
       "      order_delivered_carrier_date order_delivered_customer_date  \\\n",
       "0              2017-10-04 19:55:00           2017-10-10 21:25:13   \n",
       "0              2017-10-04 19:55:00           2017-10-10 21:25:13   \n",
       "0              2017-10-04 19:55:00           2017-10-10 21:25:13   \n",
       "1              2018-07-26 14:31:00           2018-08-07 15:27:45   \n",
       "2              2018-08-08 13:50:00           2018-08-17 18:06:29   \n",
       "...                            ...                           ...   \n",
       "99437          2018-02-07 23:22:42           2018-02-28 17:37:56   \n",
       "99438          2017-08-28 20:52:26           2017-09-21 11:24:17   \n",
       "99439          2018-01-12 15:35:03           2018-01-25 23:32:54   \n",
       "99439          2018-01-12 15:35:03           2018-01-25 23:32:54   \n",
       "99440          2018-03-09 22:11:59           2018-03-16 13:08:30   \n",
       "\n",
       "      order_estimated_delivery_date  payment_sequential payment_type  \\\n",
       "0               2017-10-18 00:00:00                 1.0  credit_card   \n",
       "0               2017-10-18 00:00:00                 3.0      voucher   \n",
       "0               2017-10-18 00:00:00                 2.0      voucher   \n",
       "1               2018-08-13 00:00:00                 1.0       boleto   \n",
       "2               2018-09-04 00:00:00                 1.0  credit_card   \n",
       "...                             ...                 ...          ...   \n",
       "99437           2018-03-02 00:00:00                 1.0  credit_card   \n",
       "99438           2017-09-27 00:00:00                 1.0  credit_card   \n",
       "99439           2018-02-15 00:00:00                 1.0  credit_card   \n",
       "99439           2018-02-15 00:00:00                 1.0  credit_card   \n",
       "99440           2018-04-03 00:00:00                 1.0   debit_card   \n",
       "\n",
       "       payment_installments  payment_value                customer_unique_id  \\\n",
       "0                       1.0          18.12  7c396fd4830fd04220f754e42b4e5bff   \n",
       "0                       1.0           2.00  7c396fd4830fd04220f754e42b4e5bff   \n",
       "0                       1.0          18.59  7c396fd4830fd04220f754e42b4e5bff   \n",
       "1                       1.0         141.46  af07308b275d755c9edb36a90c618231   \n",
       "2                       3.0         179.12  3a653a41f6f9fc3d2a113cf8398680e8   \n",
       "...                     ...            ...                               ...   \n",
       "99437                   3.0         195.00  da62f9e57a76d978d02ab5362c509660   \n",
       "99438                   5.0         271.01  737520a9aad80b3fbbdad19b66b37b30   \n",
       "99439                   4.0         441.16  5097a5312c8b157bb7be58ae360ef43c   \n",
       "99439                   4.0         441.16  5097a5312c8b157bb7be58ae360ef43c   \n",
       "99440                   1.0          86.86  60350aa974b26ff12caad89e55993bd6   \n",
       "\n",
       "       customer_zip_code_prefix customer_city customer_state  \\\n",
       "0                          3149     sao paulo             SP   \n",
       "0                          3149     sao paulo             SP   \n",
       "0                          3149     sao paulo             SP   \n",
       "1                         47813     barreiras             BA   \n",
       "2                         75265    vianopolis             GO   \n",
       "...                         ...           ...            ...   \n",
       "99437                     11722  praia grande             SP   \n",
       "99438                     45920   nova vicosa             BA   \n",
       "99439                     28685       japuiba             RJ   \n",
       "99439                     28685       japuiba             RJ   \n",
       "99440                     83750          lapa             PR   \n",
       "\n",
       "                              review_id  review_score review_comment_title  \\\n",
       "0      a54f0611adc9ed256b57ede6b6eb5114           4.0                  NaN   \n",
       "0      a54f0611adc9ed256b57ede6b6eb5114           4.0                  NaN   \n",
       "0      a54f0611adc9ed256b57ede6b6eb5114           4.0                  NaN   \n",
       "1      8d5266042046a06655c8db133d120ba5           4.0     Muito boa a loja   \n",
       "2      e73b67b67587f7644d5bd1a52deb1b01           5.0                  NaN   \n",
       "...                                 ...           ...                  ...   \n",
       "99437  29bb71b2760d0f876dfa178a76bc4734           4.0                  NaN   \n",
       "99438  371579771219f6db2d830d50805977bb           5.0                  NaN   \n",
       "99439  8ab6855b9fe9b812cd03a480a25058a1           2.0                  NaN   \n",
       "99439  8ab6855b9fe9b812cd03a480a25058a1           2.0                  NaN   \n",
       "99440  dc9c59b4688062c25758c2be4cafc523           5.0                  NaN   \n",
       "\n",
       "                                                                                                                                                           review_comment_message  \\\n",
       "0      Não testei o produto ainda, mas ele veio correto e em boas condições. Apenas a caixa que veio bem amassada e danificada, o que ficará chato, pois se trata de um presente.   \n",
       "0      Não testei o produto ainda, mas ele veio correto e em boas condições. Apenas a caixa que veio bem amassada e danificada, o que ficará chato, pois se trata de um presente.   \n",
       "0      Não testei o produto ainda, mas ele veio correto e em boas condições. Apenas a caixa que veio bem amassada e danificada, o que ficará chato, pois se trata de um presente.   \n",
       "1                                                                                                                                                            Muito bom o produto.   \n",
       "2                                                                                                                                                                             NaN   \n",
       "...                                                                                                                                                                           ...   \n",
       "99437                                                                                                                                So uma peça que veio rachado mas tudo bem rs   \n",
       "99438                                                                                                                                                Foi entregue antes do prazo.   \n",
       "99439                                                                                                                       Foi entregue somente 1. Quero saber do outro produto.   \n",
       "99439                                                                                                                       Foi entregue somente 1. Quero saber do outro produto.   \n",
       "99440                                                                                                                                                                         NaN   \n",
       "\n",
       "      review_creation_date review_answer_timestamp  order_item_id  \\\n",
       "0      2017-10-11 00:00:00     2017-10-12 03:43:48            1.0   \n",
       "0      2017-10-11 00:00:00     2017-10-12 03:43:48            1.0   \n",
       "0      2017-10-11 00:00:00     2017-10-12 03:43:48            1.0   \n",
       "1      2018-08-08 00:00:00     2018-08-08 18:37:50            1.0   \n",
       "2      2018-08-18 00:00:00     2018-08-22 19:07:58            1.0   \n",
       "...                    ...                     ...            ...   \n",
       "99437  2018-03-01 00:00:00     2018-03-02 17:50:01            1.0   \n",
       "99438  2017-09-22 00:00:00     2017-09-22 23:10:57            1.0   \n",
       "99439  2018-01-26 00:00:00     2018-01-27 09:16:56            1.0   \n",
       "99439  2018-01-26 00:00:00     2018-01-27 09:16:56            2.0   \n",
       "99440  2018-03-17 00:00:00     2018-03-17 16:33:31            1.0   \n",
       "\n",
       "                             product_id                         seller_id  \\\n",
       "0      87285b34884572647811a353c7ac498a  3504c0cb71d7fa48d967e0e4c94d59d9   \n",
       "0      87285b34884572647811a353c7ac498a  3504c0cb71d7fa48d967e0e4c94d59d9   \n",
       "0      87285b34884572647811a353c7ac498a  3504c0cb71d7fa48d967e0e4c94d59d9   \n",
       "1      595fac2a385ac33a80bd5114aec74eb8  289cdb325fb7e7f891c38608bf9e0962   \n",
       "2      aa4383b373c6aca5d8797843e5594415  4869f7a5dfa277a7dca6462dcf3b52b2   \n",
       "...                                 ...                               ...   \n",
       "99437  f1d4ce8c6dd66c47bbaa8c6781c2a923  1f9ab4708f3056ede07124aad39a2554   \n",
       "99438  b80910977a37536adeddd63663f916ad  d50d79cb34e38265a8649c383dcffd48   \n",
       "99439  d1c427060a0f73f6b889a5c7c61f2ac4  a1043bafd471dff536d0c462352beb48   \n",
       "99439  d1c427060a0f73f6b889a5c7c61f2ac4  a1043bafd471dff536d0c462352beb48   \n",
       "99440  006619bbed68b000c8ba3f8725d5409e  ececbfcff9804a2d6b40f589df8eef2b   \n",
       "\n",
       "       shipping_limit_date   price  freight_value   product_category_name  \\\n",
       "0      2017-10-06 11:07:15   29.99           8.72   utilidades_domesticas   \n",
       "0      2017-10-06 11:07:15   29.99           8.72   utilidades_domesticas   \n",
       "0      2017-10-06 11:07:15   29.99           8.72   utilidades_domesticas   \n",
       "1      2018-07-30 03:24:27  118.70          22.76              perfumaria   \n",
       "2      2018-08-13 08:55:23  159.90          19.22              automotivo   \n",
       "...                    ...     ...            ...                     ...   \n",
       "99437  2018-02-12 13:10:37  174.90          20.10                   bebes   \n",
       "99438  2017-09-05 15:04:16  205.99          65.02      eletrodomesticos_2   \n",
       "99439  2018-01-12 21:36:21  179.99          40.59  informatica_acessorios   \n",
       "99439  2018-01-12 21:36:21  179.99          40.59  informatica_acessorios   \n",
       "99440  2018-03-15 10:55:42   68.50          18.36            beleza_saude   \n",
       "\n",
       "       product_name_lenght  product_description_lenght  product_photos_qty  \\\n",
       "0                     40.0                       268.0                 4.0   \n",
       "0                     40.0                       268.0                 4.0   \n",
       "0                     40.0                       268.0                 4.0   \n",
       "1                     29.0                       178.0                 1.0   \n",
       "2                     46.0                       232.0                 1.0   \n",
       "...                    ...                         ...                 ...   \n",
       "99437                 52.0                       828.0                 4.0   \n",
       "99438                 51.0                       500.0                 2.0   \n",
       "99439                 59.0                      1893.0                 1.0   \n",
       "99439                 59.0                      1893.0                 1.0   \n",
       "99440                 45.0                       569.0                 1.0   \n",
       "\n",
       "       product_weight_g  product_length_cm  product_height_cm  \\\n",
       "0                 500.0               19.0                8.0   \n",
       "0                 500.0               19.0                8.0   \n",
       "0                 500.0               19.0                8.0   \n",
       "1                 400.0               19.0               13.0   \n",
       "2                 420.0               24.0               19.0   \n",
       "...                 ...                ...                ...   \n",
       "99437            4950.0               40.0               10.0   \n",
       "99438           13300.0               32.0               90.0   \n",
       "99439            6550.0               20.0               20.0   \n",
       "99439            6550.0               20.0               20.0   \n",
       "99440             150.0               16.0                7.0   \n",
       "\n",
       "       product_width_cm  seller_zip_code_prefix     seller_city seller_state  \n",
       "0                  13.0                  9350.0            maua           SP  \n",
       "0                  13.0                  9350.0            maua           SP  \n",
       "0                  13.0                  9350.0            maua           SP  \n",
       "1                  19.0                 31570.0  belo horizonte           SP  \n",
       "2                  21.0                 14840.0         guariba           SP  \n",
       "...                 ...                     ...             ...          ...  \n",
       "99437              40.0                 17602.0            tupa           SP  \n",
       "99438              22.0                  8290.0       sao paulo           SP  \n",
       "99439              20.0                 37175.0        ilicinea           MG  \n",
       "99439              20.0                 37175.0        ilicinea           MG  \n",
       "99440              15.0                 14407.0          franca           SP  \n",
       "\n",
       "[119143 rows x 39 columns]"
      ]
     },
     "execution_count": 11,
     "metadata": {},
     "output_type": "execute_result"
    }
   ],
   "source": [
    "dataset_full = order_dataset.join(payment_dataset.set_index('order_id'), 'order_id')\\\n",
    ".join(customer_dataset.set_index('customer_id'), 'customer_id')\\\n",
    ".join(review_dataset.set_index('order_id'), 'order_id')\\\n",
    ".join(order_items_dataset.set_index('order_id'), 'order_id')\\\n",
    ".join(products_dataset.set_index('product_id'), 'product_id')\\\n",
    ".join(seller_dataset.set_index('seller_id'), 'seller_id')\n",
    "dataset_full"
   ]
  },
  {
   "cell_type": "markdown",
   "id": "094fc329",
   "metadata": {},
   "source": [
    "# Méthodes utilitaires\n",
    "## Détection des outliers"
   ]
  },
  {
   "cell_type": "code",
   "execution_count": 12,
   "id": "51fa6cef",
   "metadata": {},
   "outputs": [],
   "source": [
    "def get_outliers(serie):\n",
    "    q1 = serie.quantile(0.25)\n",
    "    q3 = serie.quantile(0.75)\n",
    "    iqr = q3 - q1\n",
    "    return serie[~serie.between(q1 - 1.5 * iqr, q3 + 1.5 * iqr)]"
   ]
  },
  {
   "cell_type": "markdown",
   "id": "dcb50061",
   "metadata": {},
   "source": [
    "# Sélection et création des variables"
   ]
  },
  {
   "cell_type": "code",
   "execution_count": 13,
   "id": "e2deab17",
   "metadata": {},
   "outputs": [],
   "source": [
    "dataset_raw = dataset_full[['order_id','customer_unique_id', 'order_status', 'payment_type', 'payment_value', 'payment_sequential',\n",
    "                            'order_item_id','review_score', 'price', 'freight_value','product_category_name', 'product_photos_qty'\n",
    "        ]].copy()\n",
    "dataset_raw.dropna(subset=['order_item_id'], inplace=True)"
   ]
  },
  {
   "cell_type": "markdown",
   "id": "4d827891",
   "metadata": {},
   "source": [
    "## Stockage du nombre de commande par client"
   ]
  },
  {
   "cell_type": "code",
   "execution_count": 14,
   "id": "843e4114",
   "metadata": {},
   "outputs": [
    {
     "data": {
      "text/plain": [
       "customer_unique_id\n",
       "0000366f3b9a7992bf8c76cfdf3221e2    1\n",
       "0000b849f77a49e4a4ce2b2a4ca5be3f    1\n",
       "0000f46a3911fa3c0805444483337064    1\n",
       "0000f6ccb0745a6a4b88665a16c9f078    1\n",
       "0004aac84e0df4da2b147fca70cf8255    1\n",
       "Name: order_per_client, dtype: int64"
      ]
     },
     "execution_count": 14,
     "metadata": {},
     "output_type": "execute_result"
    }
   ],
   "source": [
    "order_per_client = dataset_raw.groupby(['customer_unique_id', 'order_id']).size().groupby(level=0).count()\n",
    "order_per_client.name = 'order_per_client'\n",
    "order_per_client.head()"
   ]
  },
  {
   "cell_type": "code",
   "execution_count": 15,
   "id": "055562e3",
   "metadata": {
    "scrolled": false
   },
   "outputs": [
    {
     "data": {
      "image/png": "[encoded data removed]",
      "text/plain": [
       "<Figure size 720x288 with 1 Axes>"
      ]
     },
     "metadata": {
      "needs_background": "light"
     },
     "output_type": "display_data"
    },
    {
     "data": {
      "text/plain": [
       "count    95420.000000\n",
       "mean         1.034018\n",
       "std          0.211234\n",
       "min          1.000000\n",
       "25%          1.000000\n",
       "50%          1.000000\n",
       "75%          1.000000\n",
       "max         16.000000\n",
       "Name: order_per_client, dtype: float64"
      ]
     },
     "execution_count": 15,
     "metadata": {},
     "output_type": "execute_result"
    }
   ],
   "source": [
    "fig, ax = plt.subplots(figsize=(10, 4))\n",
    "order_per_client.value_counts().sort_index().plot(kind='bar', rot=0, ax=ax)\n",
    "fig.suptitle('Répartition du nombre de commandes par clients')\n",
    "ax.set_xlabel('Nombre de commandes')\n",
    "ax.set_ylabel('Effectif')\n",
    "plt.show()\n",
    "order_per_client.describe()"
   ]
  },
  {
   "cell_type": "code",
   "execution_count": 16,
   "id": "18049541",
   "metadata": {},
   "outputs": [
    {
     "data": {
      "image/png": "[encoded data removed]",
      "text/plain": [
       "<Figure size 432x288 with 1 Axes>"
      ]
     },
     "metadata": {
      "needs_background": "light"
     },
     "output_type": "display_data"
    }
   ],
   "source": [
    "plt.boxplot(order_per_client, vert=False, labels=['Nombre de commande'])\n",
    "plt.show()"
   ]
  },
  {
   "cell_type": "code",
   "execution_count": 17,
   "id": "1810f8a1",
   "metadata": {},
   "outputs": [
    {
     "name": "stdout",
     "output_type": "stream",
     "text": [
      "2913, soit 3.05% des clients\n"
     ]
    }
   ],
   "source": [
    "order_outliers = get_outliers(order_per_client)\n",
    "print(f'{len(order_outliers)}, soit {len(order_outliers)*100/order_per_client.shape[0]:.2f}% des clients')"
   ]
  },
  {
   "cell_type": "code",
   "execution_count": 18,
   "id": "97d8720c",
   "metadata": {},
   "outputs": [
    {
     "data": {
      "text/plain": [
       "count    92507.0\n",
       "mean         1.0\n",
       "std          0.0\n",
       "min          1.0\n",
       "25%          1.0\n",
       "50%          1.0\n",
       "75%          1.0\n",
       "max          1.0\n",
       "Name: order_per_client, dtype: float64"
      ]
     },
     "execution_count": 18,
     "metadata": {},
     "output_type": "execute_result"
    }
   ],
   "source": [
    "order_wo_outliers = order_per_client.drop(index=order_outliers.index)\n",
    "order_wo_outliers.describe()"
   ]
  },
  {
   "cell_type": "markdown",
   "id": "3286b16e",
   "metadata": {},
   "source": [
    "## Calcul du ration d'annulation"
   ]
  },
  {
   "cell_type": "code",
   "execution_count": 19,
   "id": "e40b5897",
   "metadata": {},
   "outputs": [
    {
     "data": {
      "text/plain": [
       "customer_unique_id\n",
       "0000366f3b9a7992bf8c76cfdf3221e2    0.0\n",
       "0000b849f77a49e4a4ce2b2a4ca5be3f    0.0\n",
       "0000f46a3911fa3c0805444483337064    0.0\n",
       "0000f6ccb0745a6a4b88665a16c9f078    0.0\n",
       "0004aac84e0df4da2b147fca70cf8255    0.0\n",
       "Name: cancel_ratio, dtype: float64"
      ]
     },
     "execution_count": 19,
     "metadata": {},
     "output_type": "execute_result"
    }
   ],
   "source": [
    "canceled_orders = dataset_raw['order_status'] == 'canceled'\n",
    "num_canceled_orders = dataset_raw[canceled_orders].groupby('customer_unique_id').size()\n",
    "num_canceled_orders.name = 'num_canceled_orders'\n",
    "cancel_ratio = num_canceled_orders / order_per_client\n",
    "cancel_ratio.fillna(0, inplace=True)\n",
    "cancel_ratio.name = 'cancel_ratio'\n",
    "cancel_ratio.head()"
   ]
  },
  {
   "cell_type": "code",
   "execution_count": 20,
   "id": "81bbf90a",
   "metadata": {
    "scrolled": false
   },
   "outputs": [
    {
     "data": {
      "image/png": "[encoded data removed]",
      "text/plain": [
       "<Figure size 720x288 with 1 Axes>"
      ]
     },
     "metadata": {
      "needs_background": "light"
     },
     "output_type": "display_data"
    },
    {
     "data": {
      "text/plain": [
       "count    95420.000000\n",
       "mean         0.005766\n",
       "std          0.100566\n",
       "min          0.000000\n",
       "25%          0.000000\n",
       "50%          0.000000\n",
       "75%          0.000000\n",
       "max          9.000000\n",
       "Name: cancel_ratio, dtype: float64"
      ]
     },
     "execution_count": 20,
     "metadata": {},
     "output_type": "execute_result"
    }
   ],
   "source": [
    "fig, ax = plt.subplots(figsize=(10, 4))\n",
    "cancel_ratio.plot.hist(by='index', ax=ax)\n",
    "fig.suptitle('Ratio d\\'annulation par clients')\n",
    "ax.set_xlabel('Ratio d\\'annulation')\n",
    "ax.set_ylabel('Effectif')\n",
    "plt.show()\n",
    "cancel_ratio.describe()"
   ]
  },
  {
   "cell_type": "code",
   "execution_count": 21,
   "id": "81e5ec74",
   "metadata": {},
   "outputs": [
    {
     "data": {
      "image/png": "[encoded data removed]",
      "text/plain": [
       "<Figure size 432x288 with 1 Axes>"
      ]
     },
     "metadata": {
      "needs_background": "light"
     },
     "output_type": "display_data"
    }
   ],
   "source": [
    "plt.boxplot(cancel_ratio, vert=False, labels=['Ratio d\\'annulation'])\n",
    "plt.show()"
   ]
  },
  {
   "cell_type": "code",
   "execution_count": 22,
   "id": "ad23fe5a",
   "metadata": {},
   "outputs": [
    {
     "name": "stdout",
     "output_type": "stream",
     "text": [
      "461, soit 0.48% des clients\n"
     ]
    }
   ],
   "source": [
    "cancel_outliers = get_outliers(cancel_ratio)\n",
    "print(f'{len(cancel_outliers)}, soit {len(cancel_outliers)*100/cancel_ratio.shape[0]:.2f}% des clients')"
   ]
  },
  {
   "cell_type": "code",
   "execution_count": 23,
   "id": "a55cb405",
   "metadata": {},
   "outputs": [
    {
     "data": {
      "text/plain": [
       "count    94959.0\n",
       "mean         0.0\n",
       "std          0.0\n",
       "min          0.0\n",
       "25%          0.0\n",
       "50%          0.0\n",
       "75%          0.0\n",
       "max          0.0\n",
       "Name: cancel_ratio, dtype: float64"
      ]
     },
     "execution_count": 23,
     "metadata": {},
     "output_type": "execute_result"
    }
   ],
   "source": [
    "cancel_wo_outliers = cancel_ratio.drop(index=cancel_outliers.index)\n",
    "cancel_wo_outliers.describe()"
   ]
  },
  {
   "cell_type": "code",
   "execution_count": 24,
   "id": "0cda9075",
   "metadata": {},
   "outputs": [
    {
     "data": {
      "text/plain": [
       "Index(['0058f300f57d7b93c477a131a59b36c3', '01ea7dfdac01a4e8fbe2902b73510b20',\n",
       "       '035e7cd88b7450fd33efeca817081a53', '055ec572ac7f3c7bdd04a183830ebe59',\n",
       "       '15d2493aa522c1040d639aa74bd1fb31', '3b80d2592c113d689c05232eb90db0ff',\n",
       "       '4a875173bfb6a79bc80ade998b70132e', '4b9c1e46a59a75a9af94bc7e355b97a0',\n",
       "       '4eb6fcfd481ef3c2ab3afba135ef4bcc', '597e54e653cbc1ce5df1e6d97bbc448c',\n",
       "       '60a22f2188cd2b544c45f103d0e00539', '681405a99faf3ac8afc2dc018a3f67bb',\n",
       "       '6f59eba24fd00a27069b57c896d8899a', '8cfc5350efe3bce6a0d6f96fbaf2c3b4',\n",
       "       '930ff10207a0155e4d569dc1b66714c2', '93eac6e21b2113a6da9ab2aaec1eefba',\n",
       "       '96f9204de777192f8feb7776d3cd09b4', 'b14ef688a7c1a52e7437298085d9d62b',\n",
       "       'b440e4b2919c01d29cebadaf09ef7272', 'b46143871bd7f63bcbd5acd898b5e1ee',\n",
       "       'b9badb100ff8ecc16a403111209e3a06', 'c47ec91fad63554dd8fe3e33188faf7d',\n",
       "       'c48322635a138a5714e55d9113d0e266', 'c4ebedb09beb89cc0314c5c0c33f8053',\n",
       "       'c8592d5ae5bde92205a4eedb41d9455e', 'cc14ea7099959d91a17c9d7c3a46721d',\n",
       "       'e8ddc823809246fabd9c235ef7714630', 'ea8a37a119980ee4681e28145b39bb3b',\n",
       "       'f50ca6544a0ed8a52cc964e15cbe9cf9', 'f72d1ee92d55688d07ca88506300715e'],\n",
       "      dtype='object', name='customer_unique_id')"
      ]
     },
     "execution_count": 24,
     "metadata": {},
     "output_type": "execute_result"
    }
   ],
   "source": [
    "order_outliers.index.intersection(cancel_outliers.index)"
   ]
  },
  {
   "cell_type": "markdown",
   "id": "709d28f4",
   "metadata": {},
   "source": [
    "## Comparaison du prix et du total de paiement"
   ]
  },
  {
   "cell_type": "code",
   "execution_count": 25,
   "id": "90aca410",
   "metadata": {
    "scrolled": false
   },
   "outputs": [
    {
     "data": {
      "text/plain": [
       "False"
      ]
     },
     "execution_count": 25,
     "metadata": {},
     "output_type": "execute_result"
    }
   ],
   "source": [
    "total_payment = dataset_raw.groupby(['order_id', 'payment_sequential']).first().groupby('order_id').sum()['payment_value'].round(2)\n",
    "total_payment.name = 'total_payment'\n",
    "group = dataset_raw.groupby(['order_id', 'order_item_id']).first().groupby('order_id').sum()\n",
    "price = round(group['price'] + group['freight_value'], 2)\n",
    "price.name = 'price'\n",
    "compare = pd.merge(total_payment, price, how='left', left_index=True, right_index=True)\n",
    "compare['total_payment'].equals(compare['price'])"
   ]
  },
  {
   "cell_type": "code",
   "execution_count": 26,
   "id": "e1ba8cbd",
   "metadata": {},
   "outputs": [
    {
     "data": {
      "text/html": [
       "<div>\n",
       "<style scoped>\n",
       "    .dataframe tbody tr th:only-of-type {\n",
       "        vertical-align: middle;\n",
       "    }\n",
       "\n",
       "    .dataframe tbody tr th {\n",
       "        vertical-align: top;\n",
       "    }\n",
       "\n",
       "    .dataframe thead th {\n",
       "        text-align: right;\n",
       "    }\n",
       "</style>\n",
       "<table border=\"1\" class=\"dataframe\">\n",
       "  <thead>\n",
       "    <tr style=\"text-align: right;\">\n",
       "      <th></th>\n",
       "      <th>total_payment</th>\n",
       "      <th>price</th>\n",
       "    </tr>\n",
       "    <tr>\n",
       "      <th>order_id</th>\n",
       "      <th></th>\n",
       "      <th></th>\n",
       "    </tr>\n",
       "  </thead>\n",
       "  <tbody>\n",
       "    <tr>\n",
       "      <th>005d9a5423d47281ac463a968b3936fb</th>\n",
       "      <td>145.26</td>\n",
       "      <td>145.25</td>\n",
       "    </tr>\n",
       "    <tr>\n",
       "      <th>00789ce015e7e5791c7914f32bb4fad4</th>\n",
       "      <td>190.81</td>\n",
       "      <td>168.83</td>\n",
       "    </tr>\n",
       "    <tr>\n",
       "      <th>016726239765c18f66826453f39c64e3</th>\n",
       "      <td>265.77</td>\n",
       "      <td>235.13</td>\n",
       "    </tr>\n",
       "    <tr>\n",
       "      <th>01e51b7c3025655646143d09b911e1d7</th>\n",
       "      <td>35.02</td>\n",
       "      <td>33.10</td>\n",
       "    </tr>\n",
       "    <tr>\n",
       "      <th>028aa7c930356788f861ed1b7f984819</th>\n",
       "      <td>62.94</td>\n",
       "      <td>57.53</td>\n",
       "    </tr>\n",
       "    <tr>\n",
       "      <th>...</th>\n",
       "      <td>...</td>\n",
       "      <td>...</td>\n",
       "    </tr>\n",
       "    <tr>\n",
       "      <th>fd571ab12e8d263eaf309774eedfcfeb</th>\n",
       "      <td>948.69</td>\n",
       "      <td>948.70</td>\n",
       "    </tr>\n",
       "    <tr>\n",
       "      <th>fdb034f444a32838124d8907e443d249</th>\n",
       "      <td>33.56</td>\n",
       "      <td>31.38</td>\n",
       "    </tr>\n",
       "    <tr>\n",
       "      <th>fe35e99a6a5d4d036bf8167d364e0792</th>\n",
       "      <td>262.59</td>\n",
       "      <td>262.60</td>\n",
       "    </tr>\n",
       "    <tr>\n",
       "      <th>fecb65750b4fe05b8257f650b2e114a2</th>\n",
       "      <td>216.75</td>\n",
       "      <td>216.76</td>\n",
       "    </tr>\n",
       "    <tr>\n",
       "      <th>ffb18bf111fa70edf316eb0390427986</th>\n",
       "      <td>617.24</td>\n",
       "      <td>617.25</td>\n",
       "    </tr>\n",
       "  </tbody>\n",
       "</table>\n",
       "<p>576 rows × 2 columns</p>\n",
       "</div>"
      ],
      "text/plain": [
       "                                  total_payment   price\n",
       "order_id                                               \n",
       "005d9a5423d47281ac463a968b3936fb         145.26  145.25\n",
       "00789ce015e7e5791c7914f32bb4fad4         190.81  168.83\n",
       "016726239765c18f66826453f39c64e3         265.77  235.13\n",
       "01e51b7c3025655646143d09b911e1d7          35.02   33.10\n",
       "028aa7c930356788f861ed1b7f984819          62.94   57.53\n",
       "...                                         ...     ...\n",
       "fd571ab12e8d263eaf309774eedfcfeb         948.69  948.70\n",
       "fdb034f444a32838124d8907e443d249          33.56   31.38\n",
       "fe35e99a6a5d4d036bf8167d364e0792         262.59  262.60\n",
       "fecb65750b4fe05b8257f650b2e114a2         216.75  216.76\n",
       "ffb18bf111fa70edf316eb0390427986         617.24  617.25\n",
       "\n",
       "[576 rows x 2 columns]"
      ]
     },
     "execution_count": 26,
     "metadata": {},
     "output_type": "execute_result"
    }
   ],
   "source": [
    "compare[compare['total_payment'] != compare['price']]"
   ]
  },
  {
   "cell_type": "markdown",
   "id": "dc0abd3b",
   "metadata": {},
   "source": [
    "Le total de la feature `payment_value` pour une commande est bien égale au prix des articles plus les frais de port. Nous n'allons donc garder que ces deux derniers."
   ]
  },
  {
   "cell_type": "markdown",
   "id": "e0c908fe",
   "metadata": {},
   "source": [
    "## Panier moyen"
   ]
  },
  {
   "cell_type": "markdown",
   "id": "d91c6241",
   "metadata": {},
   "source": [
    "## Calcul du nombre d'articles dans le panier moyen de chaque client"
   ]
  },
  {
   "cell_type": "code",
   "execution_count": 27,
   "id": "97e07513",
   "metadata": {
    "scrolled": true
   },
   "outputs": [
    {
     "data": {
      "text/plain": [
       "customer_unique_id\n",
       "0000366f3b9a7992bf8c76cfdf3221e2    1.0\n",
       "0000b849f77a49e4a4ce2b2a4ca5be3f    1.0\n",
       "0000f46a3911fa3c0805444483337064    1.0\n",
       "0000f6ccb0745a6a4b88665a16c9f078    1.0\n",
       "0004aac84e0df4da2b147fca70cf8255    1.0\n",
       "Name: articles_per_cart, dtype: float64"
      ]
     },
     "execution_count": 27,
     "metadata": {},
     "output_type": "execute_result"
    }
   ],
   "source": [
    "article_per_mean_cart = dataset_full.dropna(subset=['order_item_id']).groupby(['customer_unique_id', 'customer_id'])['order_item_id'].max()\\\n",
    ".groupby('customer_unique_id').mean()\n",
    "article_per_mean_cart.name = 'articles_per_cart'\n",
    "article_per_mean_cart.head()"
   ]
  },
  {
   "cell_type": "code",
   "execution_count": 28,
   "id": "e7615ecb",
   "metadata": {},
   "outputs": [
    {
     "data": {
      "image/png": "[encoded data removed]",
      "text/plain": [
       "<Figure size 720x288 with 1 Axes>"
      ]
     },
     "metadata": {
      "needs_background": "light"
     },
     "output_type": "display_data"
    },
    {
     "data": {
      "text/plain": [
       "count    95420.00000\n",
       "mean         1.13910\n",
       "std          0.52688\n",
       "min          1.00000\n",
       "25%          1.00000\n",
       "50%          1.00000\n",
       "75%          1.00000\n",
       "max         21.00000\n",
       "Name: articles_per_cart, dtype: float64"
      ]
     },
     "execution_count": 28,
     "metadata": {},
     "output_type": "execute_result"
    }
   ],
   "source": [
    "fig, ax = plt.subplots(figsize=(10, 4))\n",
    "article_per_mean_cart.plot(kind='hist', ax=ax)\n",
    "fig.suptitle('Répartition du nombre d\\'articles par panier par clients')\n",
    "ax.set_xlabel('Nombre d\\'articles dans le panier moyen')\n",
    "ax.set_ylabel('Effectif')\n",
    "plt.show()\n",
    "article_per_mean_cart.describe()"
   ]
  },
  {
   "cell_type": "code",
   "execution_count": 29,
   "id": "2cb7f6b9",
   "metadata": {},
   "outputs": [
    {
     "data": {
      "image/png": "[encoded data removed]",
      "text/plain": [
       "<Figure size 432x288 with 1 Axes>"
      ]
     },
     "metadata": {
      "needs_background": "light"
     },
     "output_type": "display_data"
    }
   ],
   "source": [
    "plt.boxplot(article_per_mean_cart, vert=False, labels=['Articles par panier'])\n",
    "plt.show()"
   ]
  },
  {
   "cell_type": "code",
   "execution_count": 30,
   "id": "f5596b16",
   "metadata": {},
   "outputs": [
    {
     "name": "stdout",
     "output_type": "stream",
     "text": [
      "9649, soit 10.11% des clients\n"
     ]
    },
    {
     "data": {
      "text/plain": [
       "count    9649.000000\n",
       "mean        2.375579\n",
       "std         1.021980\n",
       "min         1.166667\n",
       "25%         2.000000\n",
       "50%         2.000000\n",
       "75%         2.000000\n",
       "max        21.000000\n",
       "Name: articles_per_cart, dtype: float64"
      ]
     },
     "execution_count": 30,
     "metadata": {},
     "output_type": "execute_result"
    }
   ],
   "source": [
    "outliers = get_outliers(article_per_mean_cart)\n",
    "print(f'{len(outliers)}, soit {len(outliers)*100/article_per_mean_cart.shape[0]:.2f}% des clients')\n",
    "outliers.describe()"
   ]
  },
  {
   "cell_type": "code",
   "execution_count": 31,
   "id": "67229f32",
   "metadata": {},
   "outputs": [
    {
     "data": {
      "text/plain": [
       "count    85771.0\n",
       "mean         1.0\n",
       "std          0.0\n",
       "min          1.0\n",
       "25%          1.0\n",
       "50%          1.0\n",
       "75%          1.0\n",
       "max          1.0\n",
       "Name: articles_per_cart, dtype: float64"
      ]
     },
     "execution_count": 31,
     "metadata": {},
     "output_type": "execute_result"
    }
   ],
   "source": [
    "article_per_mean_cart.drop(index=outliers.index).describe()"
   ]
  },
  {
   "cell_type": "markdown",
   "id": "b27a0ea0",
   "metadata": {},
   "source": [
    "## Calcul du prix du panier moyen de chaque client"
   ]
  },
  {
   "cell_type": "code",
   "execution_count": 32,
   "id": "86182916",
   "metadata": {
    "scrolled": true
   },
   "outputs": [
    {
     "data": {
      "text/html": [
       "<div>\n",
       "<style scoped>\n",
       "    .dataframe tbody tr th:only-of-type {\n",
       "        vertical-align: middle;\n",
       "    }\n",
       "\n",
       "    .dataframe tbody tr th {\n",
       "        vertical-align: top;\n",
       "    }\n",
       "\n",
       "    .dataframe thead th {\n",
       "        text-align: right;\n",
       "    }\n",
       "</style>\n",
       "<table border=\"1\" class=\"dataframe\">\n",
       "  <thead>\n",
       "    <tr style=\"text-align: right;\">\n",
       "      <th></th>\n",
       "      <th>mean_command_price</th>\n",
       "      <th>mean_command_freight_value</th>\n",
       "    </tr>\n",
       "    <tr>\n",
       "      <th>customer_unique_id</th>\n",
       "      <th></th>\n",
       "      <th></th>\n",
       "    </tr>\n",
       "  </thead>\n",
       "  <tbody>\n",
       "    <tr>\n",
       "      <th>0000366f3b9a7992bf8c76cfdf3221e2</th>\n",
       "      <td>129.90</td>\n",
       "      <td>12.00</td>\n",
       "    </tr>\n",
       "    <tr>\n",
       "      <th>0000b849f77a49e4a4ce2b2a4ca5be3f</th>\n",
       "      <td>18.90</td>\n",
       "      <td>8.29</td>\n",
       "    </tr>\n",
       "    <tr>\n",
       "      <th>0000f46a3911fa3c0805444483337064</th>\n",
       "      <td>69.00</td>\n",
       "      <td>17.22</td>\n",
       "    </tr>\n",
       "    <tr>\n",
       "      <th>0000f6ccb0745a6a4b88665a16c9f078</th>\n",
       "      <td>25.99</td>\n",
       "      <td>17.63</td>\n",
       "    </tr>\n",
       "    <tr>\n",
       "      <th>0004aac84e0df4da2b147fca70cf8255</th>\n",
       "      <td>180.00</td>\n",
       "      <td>16.89</td>\n",
       "    </tr>\n",
       "  </tbody>\n",
       "</table>\n",
       "</div>"
      ],
      "text/plain": [
       "                                  mean_command_price  \\\n",
       "customer_unique_id                                     \n",
       "0000366f3b9a7992bf8c76cfdf3221e2              129.90   \n",
       "0000b849f77a49e4a4ce2b2a4ca5be3f               18.90   \n",
       "0000f46a3911fa3c0805444483337064               69.00   \n",
       "0000f6ccb0745a6a4b88665a16c9f078               25.99   \n",
       "0004aac84e0df4da2b147fca70cf8255              180.00   \n",
       "\n",
       "                                  mean_command_freight_value  \n",
       "customer_unique_id                                            \n",
       "0000366f3b9a7992bf8c76cfdf3221e2                       12.00  \n",
       "0000b849f77a49e4a4ce2b2a4ca5be3f                        8.29  \n",
       "0000f46a3911fa3c0805444483337064                       17.22  \n",
       "0000f6ccb0745a6a4b88665a16c9f078                       17.63  \n",
       "0004aac84e0df4da2b147fca70cf8255                       16.89  "
      ]
     },
     "execution_count": 32,
     "metadata": {},
     "output_type": "execute_result"
    }
   ],
   "source": [
    "price_mean_cart = dataset_full.dropna(subset=['order_item_id']).groupby(['customer_unique_id', 'customer_id'])[['price', 'freight_value']].sum()\\\n",
    ".groupby('customer_unique_id').mean()\n",
    "price_mean_cart.rename(columns={'price': 'mean_command_price', 'freight_value': 'mean_command_freight_value'}, inplace=True)\n",
    "price_mean_cart.head()"
   ]
  },
  {
   "cell_type": "code",
   "execution_count": 33,
   "id": "509777a7",
   "metadata": {},
   "outputs": [
    {
     "data": {
      "image/png": "[encoded data removed]",
      "text/plain": [
       "<Figure size 720x288 with 1 Axes>"
      ]
     },
     "metadata": {
      "needs_background": "light"
     },
     "output_type": "display_data"
    },
    {
     "data": {
      "text/html": [
       "<div>\n",
       "<style scoped>\n",
       "    .dataframe tbody tr th:only-of-type {\n",
       "        vertical-align: middle;\n",
       "    }\n",
       "\n",
       "    .dataframe tbody tr th {\n",
       "        vertical-align: top;\n",
       "    }\n",
       "\n",
       "    .dataframe thead th {\n",
       "        text-align: right;\n",
       "    }\n",
       "</style>\n",
       "<table border=\"1\" class=\"dataframe\">\n",
       "  <thead>\n",
       "    <tr style=\"text-align: right;\">\n",
       "      <th></th>\n",
       "      <th>mean_command_price</th>\n",
       "      <th>mean_command_freight_value</th>\n",
       "    </tr>\n",
       "  </thead>\n",
       "  <tbody>\n",
       "    <tr>\n",
       "      <th>count</th>\n",
       "      <td>95420.000000</td>\n",
       "      <td>95420.000000</td>\n",
       "    </tr>\n",
       "    <tr>\n",
       "      <th>mean</th>\n",
       "      <td>144.865752</td>\n",
       "      <td>23.950954</td>\n",
       "    </tr>\n",
       "    <tr>\n",
       "      <th>std</th>\n",
       "      <td>242.529582</td>\n",
       "      <td>26.229169</td>\n",
       "    </tr>\n",
       "    <tr>\n",
       "      <th>min</th>\n",
       "      <td>0.850000</td>\n",
       "      <td>0.000000</td>\n",
       "    </tr>\n",
       "    <tr>\n",
       "      <th>25%</th>\n",
       "      <td>47.990000</td>\n",
       "      <td>14.100000</td>\n",
       "    </tr>\n",
       "    <tr>\n",
       "      <th>50%</th>\n",
       "      <td>89.900000</td>\n",
       "      <td>17.600000</td>\n",
       "    </tr>\n",
       "    <tr>\n",
       "      <th>75%</th>\n",
       "      <td>155.000000</td>\n",
       "      <td>25.630000</td>\n",
       "    </tr>\n",
       "    <tr>\n",
       "      <th>max</th>\n",
       "      <td>13440.000000</td>\n",
       "      <td>1897.760000</td>\n",
       "    </tr>\n",
       "  </tbody>\n",
       "</table>\n",
       "</div>"
      ],
      "text/plain": [
       "       mean_command_price  mean_command_freight_value\n",
       "count        95420.000000                95420.000000\n",
       "mean           144.865752                   23.950954\n",
       "std            242.529582                   26.229169\n",
       "min              0.850000                    0.000000\n",
       "25%             47.990000                   14.100000\n",
       "50%             89.900000                   17.600000\n",
       "75%            155.000000                   25.630000\n",
       "max          13440.000000                 1897.760000"
      ]
     },
     "execution_count": 33,
     "metadata": {},
     "output_type": "execute_result"
    }
   ],
   "source": [
    "fig, ax = plt.subplots(figsize=(10, 4))\n",
    "price_mean_cart.plot(kind='hist', ax=ax)\n",
    "fig.suptitle('Répartition du prix du panier moyen par clients')\n",
    "ax.set_xlabel('Prix du panier moyen')\n",
    "ax.set_ylabel('Effectif')\n",
    "plt.show()\n",
    "price_mean_cart.describe()"
   ]
  },
  {
   "cell_type": "code",
   "execution_count": 34,
   "id": "4d0f4a9f",
   "metadata": {
    "scrolled": true
   },
   "outputs": [
    {
     "data": {
      "text/plain": [
       "<AxesSubplot:>"
      ]
     },
     "execution_count": 34,
     "metadata": {},
     "output_type": "execute_result"
    },
    {
     "data": {
      "image/png": "[encoded data removed]",
      "text/plain": [
       "<Figure size 432x288 with 1 Axes>"
      ]
     },
     "metadata": {
      "needs_background": "light"
     },
     "output_type": "display_data"
    }
   ],
   "source": [
    "price_mean_cart.boxplot(vert=False)"
   ]
  },
  {
   "cell_type": "code",
   "execution_count": 35,
   "id": "00ad1a2a",
   "metadata": {
    "scrolled": true
   },
   "outputs": [
    {
     "data": {
      "text/plain": [
       "<AxesSubplot:>"
      ]
     },
     "execution_count": 35,
     "metadata": {},
     "output_type": "execute_result"
    },
    {
     "data": {
      "image/png": "[encoded data removed]",
      "text/plain": [
       "<Figure size 432x288 with 1 Axes>"
      ]
     },
     "metadata": {
      "needs_background": "light"
     },
     "output_type": "display_data"
    }
   ],
   "source": [
    "np.log(price_mean_cart).boxplot(vert=False)"
   ]
  },
  {
   "cell_type": "code",
   "execution_count": 36,
   "id": "963a892b",
   "metadata": {},
   "outputs": [
    {
     "name": "stdout",
     "output_type": "stream",
     "text": [
      "9236, soit 9.68% des clients\n",
      "8057, soit 8.44% des clients\n"
     ]
    },
    {
     "data": {
      "text/plain": [
       "3116"
      ]
     },
     "execution_count": 36,
     "metadata": {},
     "output_type": "execute_result"
    }
   ],
   "source": [
    "freight_outliers = get_outliers(price_mean_cart['mean_command_freight_value'])\n",
    "print(f'{len(freight_outliers)}, soit {len(freight_outliers)*100/price_mean_cart.shape[0]:.2f}% des clients')\n",
    "price_outliers = get_outliers(price_mean_cart['mean_command_price'])\n",
    "print(f'{len(price_outliers)}, soit {len(price_outliers)*100/price_mean_cart.shape[0]:.2f}% des clients')\n",
    "\n",
    "len(freight_outliers.index.intersection(price_outliers.index))"
   ]
  },
  {
   "cell_type": "code",
   "execution_count": 37,
   "id": "87afeb3e",
   "metadata": {},
   "outputs": [
    {
     "name": "stdout",
     "output_type": "stream",
     "text": [
      "4397, soit 4.61% des clients\n",
      "1507, soit 1.58% des clients\n"
     ]
    },
    {
     "name": "stderr",
     "output_type": "stream",
     "text": [
      "/home/jbrichardet/Documents/Machine Learning/machine_learning/lib64/python3.9/site-packages/pandas/core/arraylike.py:364: RuntimeWarning: divide by zero encountered in log\n",
      "  result = getattr(ufunc, method)(*inputs, **kwargs)\n"
     ]
    }
   ],
   "source": [
    "outliers = get_outliers(np.log(price_mean_cart['mean_command_freight_value']))\n",
    "print(f'{len(outliers)}, soit {len(outliers)*100/price_mean_cart.shape[0]:.2f}% des clients')\n",
    "outliers = get_outliers(np.log(price_mean_cart['mean_command_price']))\n",
    "print(f'{len(outliers)}, soit {len(outliers)*100/price_mean_cart.shape[0]:.2f}% des clients')"
   ]
  },
  {
   "cell_type": "markdown",
   "id": "1e80b9a5",
   "metadata": {},
   "source": [
    "## Nombre de catégories par commande"
   ]
  },
  {
   "cell_type": "code",
   "execution_count": 38,
   "id": "e8550f5b",
   "metadata": {},
   "outputs": [
    {
     "data": {
      "text/plain": [
       "customer_unique_id\n",
       "0000366f3b9a7992bf8c76cfdf3221e2    1\n",
       "0000b849f77a49e4a4ce2b2a4ca5be3f    1\n",
       "0000f46a3911fa3c0805444483337064    1\n",
       "0000f6ccb0745a6a4b88665a16c9f078    1\n",
       "0004aac84e0df4da2b147fca70cf8255    1\n",
       "                                   ..\n",
       "fffcf5a5ff07b0908bd4e2dbc735a684    1\n",
       "fffea47cd6d3cc0a88bd621562a9d061    1\n",
       "ffff371b4d645b6ecea244b27531430a    1\n",
       "ffff5962728ec6157033ef9805bacc48    1\n",
       "ffffd2657e2aad2907e67c3e9daecbeb    1\n",
       "Length: 94108, dtype: int64"
      ]
     },
     "execution_count": 38,
     "metadata": {},
     "output_type": "execute_result"
    }
   ],
   "source": [
    "nb_categories = dataset_full.groupby(['customer_unique_id', 'product_category_name']).first().groupby(level=0).size()\n",
    "nb_categories"
   ]
  },
  {
   "cell_type": "code",
   "execution_count": 39,
   "id": "01e09467",
   "metadata": {},
   "outputs": [
    {
     "data": {
      "image/png": "[encoded data removed]",
      "text/plain": [
       "<Figure size 720x288 with 1 Axes>"
      ]
     },
     "metadata": {
      "needs_background": "light"
     },
     "output_type": "display_data"
    },
    {
     "data": {
      "text/plain": [
       "count    94108.000000\n",
       "mean         1.025099\n",
       "std          0.168020\n",
       "min          1.000000\n",
       "25%          1.000000\n",
       "50%          1.000000\n",
       "75%          1.000000\n",
       "max          5.000000\n",
       "dtype: float64"
      ]
     },
     "execution_count": 39,
     "metadata": {},
     "output_type": "execute_result"
    }
   ],
   "source": [
    "fig, ax = plt.subplots(figsize=(10, 4))\n",
    "nb_categories.plot(kind='hist', ax=ax)\n",
    "fig.suptitle('Répartition du nombre de catégories par clients')\n",
    "ax.set_xlabel('Nombre de catégories par clients')\n",
    "ax.set_ylabel('Effectif')\n",
    "plt.show()\n",
    "nb_categories.describe()"
   ]
  },
  {
   "cell_type": "code",
   "execution_count": 40,
   "id": "4ded5968",
   "metadata": {},
   "outputs": [
    {
     "data": {
      "image/png": "[encoded data removed]",
      "text/plain": [
       "<Figure size 432x288 with 1 Axes>"
      ]
     },
     "metadata": {
      "needs_background": "light"
     },
     "output_type": "display_data"
    }
   ],
   "source": [
    "plt.boxplot(nb_categories, vert=False, labels=['Nombre de catégories'])\n",
    "plt.show()"
   ]
  },
  {
   "cell_type": "markdown",
   "id": "cde17c2f",
   "metadata": {},
   "source": [
    "## Calcul de la catégorie dominante par client"
   ]
  },
  {
   "cell_type": "code",
   "execution_count": 41,
   "id": "f006feca",
   "metadata": {},
   "outputs": [
    {
     "data": {
      "text/plain": [
       "customer_unique_id\n",
       "0000366f3b9a7992bf8c76cfdf3221e2       cama_mesa_banho\n",
       "0000b849f77a49e4a4ce2b2a4ca5be3f          beleza_saude\n",
       "0000f46a3911fa3c0805444483337064             papelaria\n",
       "0000f6ccb0745a6a4b88665a16c9f078             telefonia\n",
       "0004aac84e0df4da2b147fca70cf8255             telefonia\n",
       "                                           ...        \n",
       "fffcf5a5ff07b0908bd4e2dbc735a684          beleza_saude\n",
       "fffea47cd6d3cc0a88bd621562a9d061                 bebes\n",
       "ffff371b4d645b6ecea244b27531430a            automotivo\n",
       "ffff5962728ec6157033ef9805bacc48    relogios_presentes\n",
       "ffffd2657e2aad2907e67c3e9daecbeb            perfumaria\n",
       "Name: prefered_category, Length: 94108, dtype: object"
      ]
     },
     "execution_count": 41,
     "metadata": {},
     "output_type": "execute_result"
    }
   ],
   "source": [
    "t = dataset_full.groupby(['customer_unique_id', 'order_id', 'order_item_id', 'product_category_name']).first()\\\n",
    ".groupby(level=[0,3]).size()\n",
    "prefered_category = pd.DataFrame(t.groupby(level=0).idxmax().tolist(), index=t.index.droplevel(1).drop_duplicates(), columns=['order', 'prefered_category'])['prefered_category']\n",
    "prefered_category"
   ]
  },
  {
   "cell_type": "markdown",
   "id": "0da4c51a",
   "metadata": {},
   "source": [
    "### Traduction en anglais"
   ]
  },
  {
   "cell_type": "code",
   "execution_count": 42,
   "id": "c4e6b4b6",
   "metadata": {},
   "outputs": [
    {
     "data": {
      "text/plain": [
       "customer_unique_id\n",
       "0000366f3b9a7992bf8c76cfdf3221e2    bed_bath_table\n",
       "0006fdc98a402fceb4eb0ee528f6a8d4    bed_bath_table\n",
       "00090324bbad0e9342388303bb71ba0a    bed_bath_table\n",
       "000c8bdb58a29e7115cfc257230fb21b    bed_bath_table\n",
       "000de6019bb59f34c099a907c151d855    bed_bath_table\n",
       "                                         ...      \n",
       "923bbadc05e0de833a6ea5e3d546c4d0        la_cuisine\n",
       "96328ac15f58fbb232fe14b182103382        la_cuisine\n",
       "9b8844d7cceb1277e6508cce966e4a09        la_cuisine\n",
       "a490d5875edefe9bb8f5101ec2f6b56f        la_cuisine\n",
       "d8b80a0bd7560fab10e804f36d99fe33        la_cuisine\n",
       "Name: prefered_category, Length: 94088, dtype: object"
      ]
     },
     "execution_count": 42,
     "metadata": {},
     "output_type": "execute_result"
    }
   ],
   "source": [
    "trad = pd.read_csv('dataset/product_category_name_translation.csv')\n",
    "prefered_category = prefered_category.to_frame().reset_index().merge(trad, right_on='product_category_name', left_on='prefered_category').set_index('customer_unique_id')['product_category_name_english']\n",
    "prefered_category.name = 'prefered_category'\n",
    "prefered_category"
   ]
  },
  {
   "cell_type": "code",
   "execution_count": 43,
   "id": "40ce7f92",
   "metadata": {
    "scrolled": false
   },
   "outputs": [
    {
     "data": {
      "image/png": "[encoded data removed]",
      "text/plain": [
       "<Figure size 1080x360 with 1 Axes>"
      ]
     },
     "metadata": {
      "needs_background": "light"
     },
     "output_type": "display_data"
    },
    {
     "data": {
      "text/plain": [
       "71"
      ]
     },
     "execution_count": 43,
     "metadata": {},
     "output_type": "execute_result"
    }
   ],
   "source": [
    "fig, ax = plt.subplots(figsize=(15, 5))\n",
    "prefered_category.value_counts().plot(kind='bar')\n",
    "fig.suptitle('Répartition des catégories préférées')\n",
    "ax.set_xlabel('Catégorie préférée')\n",
    "ax.set_ylabel('Effectif')\n",
    "plt.show()\n",
    "prefered_category.describe()\n",
    "len(prefered_category.unique())"
   ]
  },
  {
   "cell_type": "markdown",
   "id": "46edbeb5",
   "metadata": {},
   "source": [
    "## Moyen de paiment préféré"
   ]
  },
  {
   "cell_type": "code",
   "execution_count": 44,
   "id": "39288003",
   "metadata": {},
   "outputs": [
    {
     "data": {
      "text/plain": [
       "customer_unique_id\n",
       "0000366f3b9a7992bf8c76cfdf3221e2    credit_card\n",
       "0000b849f77a49e4a4ce2b2a4ca5be3f    credit_card\n",
       "0000f46a3911fa3c0805444483337064    credit_card\n",
       "0000f6ccb0745a6a4b88665a16c9f078    credit_card\n",
       "0004aac84e0df4da2b147fca70cf8255    credit_card\n",
       "                                       ...     \n",
       "fffcf5a5ff07b0908bd4e2dbc735a684    credit_card\n",
       "fffea47cd6d3cc0a88bd621562a9d061    credit_card\n",
       "ffff371b4d645b6ecea244b27531430a    credit_card\n",
       "ffff5962728ec6157033ef9805bacc48    credit_card\n",
       "ffffd2657e2aad2907e67c3e9daecbeb    credit_card\n",
       "Name: prefered_payment, Length: 96095, dtype: object"
      ]
     },
     "execution_count": 44,
     "metadata": {},
     "output_type": "execute_result"
    }
   ],
   "source": [
    "t = dataset_full.groupby(['customer_unique_id', 'order_id', 'payment_sequential', 'payment_type']).first()\\\n",
    ".groupby(level=[0,3]).size()\n",
    "prefered_payment = pd.DataFrame(t.groupby(level=0).idxmax().tolist(), index=t.index.droplevel(1).drop_duplicates(), columns=['order', 'prefered_payment'])['prefered_payment']\n",
    "prefered_payment"
   ]
  },
  {
   "cell_type": "code",
   "execution_count": 45,
   "id": "d856d023",
   "metadata": {
    "scrolled": false
   },
   "outputs": [
    {
     "data": {
      "image/png": "[encoded data removed]",
      "text/plain": [
       "<Figure size 720x288 with 1 Axes>"
      ]
     },
     "metadata": {
      "needs_background": "light"
     },
     "output_type": "display_data"
    },
    {
     "data": {
      "text/plain": [
       "count           96095\n",
       "unique              5\n",
       "top       credit_card\n",
       "freq            73531\n",
       "Name: prefered_payment, dtype: object"
      ]
     },
     "execution_count": 45,
     "metadata": {},
     "output_type": "execute_result"
    }
   ],
   "source": [
    "fig, ax = plt.subplots(figsize=(10, 4))\n",
    "prefered_payment.value_counts().plot(kind='bar')\n",
    "fig.suptitle('Répartition des moyens de paiement préférés')\n",
    "ax.set_xlabel('Moyen de paiement préféré')\n",
    "ax.set_ylabel('Effectif')\n",
    "plt.show()\n",
    "prefered_payment.describe()\n"
   ]
  },
  {
   "cell_type": "markdown",
   "id": "99b79909",
   "metadata": {},
   "source": [
    "## Facilités de paiement"
   ]
  },
  {
   "cell_type": "code",
   "execution_count": 46,
   "id": "40ce8a78",
   "metadata": {
    "scrolled": true
   },
   "outputs": [
    {
     "data": {
      "text/plain": [
       "customer_unique_id\n",
       "0000366f3b9a7992bf8c76cfdf3221e2     8.0\n",
       "0000b849f77a49e4a4ce2b2a4ca5be3f     1.0\n",
       "0000f46a3911fa3c0805444483337064     8.0\n",
       "0000f6ccb0745a6a4b88665a16c9f078     4.0\n",
       "0004aac84e0df4da2b147fca70cf8255     6.0\n",
       "                                    ... \n",
       "fffcf5a5ff07b0908bd4e2dbc735a684    10.0\n",
       "fffea47cd6d3cc0a88bd621562a9d061     1.0\n",
       "ffff371b4d645b6ecea244b27531430a     1.0\n",
       "ffff5962728ec6157033ef9805bacc48     5.0\n",
       "ffffd2657e2aad2907e67c3e9daecbeb     4.0\n",
       "Name: payment_installments, Length: 96096, dtype: float64"
      ]
     },
     "execution_count": 46,
     "metadata": {},
     "output_type": "execute_result"
    }
   ],
   "source": [
    "payment_installments = dataset_full.groupby(['customer_unique_id', 'customer_id'])['payment_installments'].first()\\\n",
    ".groupby('customer_unique_id').mean()\n",
    "payment_installments.name = 'payment_installments'\n",
    "payment_installments"
   ]
  },
  {
   "cell_type": "code",
   "execution_count": 47,
   "id": "a4506dc0",
   "metadata": {},
   "outputs": [
    {
     "data": {
      "image/png": "[encoded data removed]",
      "text/plain": [
       "<Figure size 720x288 with 1 Axes>"
      ]
     },
     "metadata": {
      "needs_background": "light"
     },
     "output_type": "display_data"
    },
    {
     "data": {
      "text/plain": [
       "count    96095.000000\n",
       "mean         2.902892\n",
       "std          2.687117\n",
       "min          0.000000\n",
       "25%          1.000000\n",
       "50%          2.000000\n",
       "75%          4.000000\n",
       "max         24.000000\n",
       "Name: payment_installments, dtype: float64"
      ]
     },
     "execution_count": 47,
     "metadata": {},
     "output_type": "execute_result"
    }
   ],
   "source": [
    "fig, ax = plt.subplots(figsize=(10, 4))\n",
    "payment_installments.plot(kind='hist', ax=ax)\n",
    "fig.suptitle('Répartition des échelonnages de paiement par clients')\n",
    "ax.set_xlabel('Nombre d\\'échelonnage moyen')\n",
    "ax.set_ylabel('Effectif')\n",
    "plt.show()\n",
    "payment_installments.describe()"
   ]
  },
  {
   "cell_type": "code",
   "execution_count": 48,
   "id": "6ec08398",
   "metadata": {},
   "outputs": [
    {
     "data": {
      "image/png": "[encoded data removed]",
      "text/plain": [
       "<Figure size 432x288 with 1 Axes>"
      ]
     },
     "metadata": {
      "needs_background": "light"
     },
     "output_type": "display_data"
    }
   ],
   "source": [
    "plt.boxplot(payment_installments, vert=False, labels=['Nombre d\\'échelonnage'])\n",
    "plt.show()"
   ]
  },
  {
   "cell_type": "markdown",
   "id": "0dbe5475",
   "metadata": {},
   "source": [
    "## Reviews"
   ]
  },
  {
   "cell_type": "code",
   "execution_count": 49,
   "id": "095a9b61",
   "metadata": {},
   "outputs": [
    {
     "data": {
      "text/plain": [
       "customer_unique_id\n",
       "0000366f3b9a7992bf8c76cfdf3221e2    5.0\n",
       "0000b849f77a49e4a4ce2b2a4ca5be3f    4.0\n",
       "0000f46a3911fa3c0805444483337064    3.0\n",
       "0000f6ccb0745a6a4b88665a16c9f078    4.0\n",
       "0004aac84e0df4da2b147fca70cf8255    5.0\n",
       "                                   ... \n",
       "fffcf5a5ff07b0908bd4e2dbc735a684    5.0\n",
       "fffea47cd6d3cc0a88bd621562a9d061    4.0\n",
       "ffff371b4d645b6ecea244b27531430a    5.0\n",
       "ffff5962728ec6157033ef9805bacc48    5.0\n",
       "ffffd2657e2aad2907e67c3e9daecbeb    5.0\n",
       "Name: mean_review, Length: 95380, dtype: float64"
      ]
     },
     "execution_count": 49,
     "metadata": {},
     "output_type": "execute_result"
    }
   ],
   "source": [
    "mean_review = dataset_full.dropna(subset=['review_score']).groupby(['customer_unique_id', 'customer_id'])['review_score'].first()\\\n",
    ".groupby('customer_unique_id').mean()\n",
    "mean_review.name = 'mean_review'\n",
    "mean_review"
   ]
  },
  {
   "cell_type": "code",
   "execution_count": 50,
   "id": "5b8a44b3",
   "metadata": {
    "scrolled": false
   },
   "outputs": [
    {
     "data": {
      "image/png": "[encoded data removed]",
      "text/plain": [
       "<Figure size 720x288 with 1 Axes>"
      ]
     },
     "metadata": {
      "needs_background": "light"
     },
     "output_type": "display_data"
    },
    {
     "data": {
      "text/plain": [
       "count    95380.000000\n",
       "mean         4.084950\n",
       "std          1.341965\n",
       "min          1.000000\n",
       "25%          4.000000\n",
       "50%          5.000000\n",
       "75%          5.000000\n",
       "max          5.000000\n",
       "Name: mean_review, dtype: float64"
      ]
     },
     "execution_count": 50,
     "metadata": {},
     "output_type": "execute_result"
    }
   ],
   "source": [
    "fig, ax = plt.subplots(figsize=(10, 4))\n",
    "mean_review.plot(kind='hist')\n",
    "fig.suptitle('Répartition des reviews moyennes')\n",
    "ax.set_xlabel('Reviews moyennes')\n",
    "ax.set_ylabel('Effectif')\n",
    "plt.show()\n",
    "mean_review.describe()"
   ]
  },
  {
   "cell_type": "markdown",
   "id": "4ea486de",
   "metadata": {},
   "source": [
    "## RFM data"
   ]
  },
  {
   "cell_type": "code",
   "execution_count": 51,
   "id": "e75280c4",
   "metadata": {},
   "outputs": [
    {
     "name": "stdout",
     "output_type": "stream",
     "text": [
      "<class 'pandas.core.frame.DataFrame'>\n",
      "Int64Index: 119143 entries, 0 to 99440\n",
      "Data columns (total 39 columns):\n",
      " #   Column                         Non-Null Count   Dtype         \n",
      "---  ------                         --------------   -----         \n",
      " 0   order_id                       119143 non-null  object        \n",
      " 1   customer_id                    119143 non-null  object        \n",
      " 2   order_status                   119143 non-null  object        \n",
      " 3   order_purchase_timestamp       119143 non-null  datetime64[ns]\n",
      " 4   order_approved_at              118966 non-null  object        \n",
      " 5   order_delivered_carrier_date   117057 non-null  object        \n",
      " 6   order_delivered_customer_date  115722 non-null  object        \n",
      " 7   order_estimated_delivery_date  119143 non-null  object        \n",
      " 8   payment_sequential             119140 non-null  float64       \n",
      " 9   payment_type                   119140 non-null  object        \n",
      " 10  payment_installments           119140 non-null  float64       \n",
      " 11  payment_value                  119140 non-null  float64       \n",
      " 12  customer_unique_id             119143 non-null  object        \n",
      " 13  customer_zip_code_prefix       119143 non-null  int64         \n",
      " 14  customer_city                  119143 non-null  object        \n",
      " 15  customer_state                 119143 non-null  object        \n",
      " 16  review_id                      118146 non-null  object        \n",
      " 17  review_score                   118146 non-null  float64       \n",
      " 18  review_comment_title           13989 non-null   object        \n",
      " 19  review_comment_message         50245 non-null   object        \n",
      " 20  review_creation_date           118146 non-null  object        \n",
      " 21  review_answer_timestamp        118146 non-null  object        \n",
      " 22  order_item_id                  118310 non-null  float64       \n",
      " 23  product_id                     118310 non-null  object        \n",
      " 24  seller_id                      118310 non-null  object        \n",
      " 25  shipping_limit_date            118310 non-null  object        \n",
      " 26  price                          118310 non-null  float64       \n",
      " 27  freight_value                  118310 non-null  float64       \n",
      " 28  product_category_name          116601 non-null  object        \n",
      " 29  product_name_lenght            116601 non-null  float64       \n",
      " 30  product_description_lenght     116601 non-null  float64       \n",
      " 31  product_photos_qty             116601 non-null  float64       \n",
      " 32  product_weight_g               118290 non-null  float64       \n",
      " 33  product_length_cm              118290 non-null  float64       \n",
      " 34  product_height_cm              118290 non-null  float64       \n",
      " 35  product_width_cm               118290 non-null  float64       \n",
      " 36  seller_zip_code_prefix         118310 non-null  float64       \n",
      " 37  seller_city                    118310 non-null  object        \n",
      " 38  seller_state                   118310 non-null  object        \n",
      "dtypes: datetime64[ns](1), float64(15), int64(1), object(22)\n",
      "memory usage: 36.4+ MB\n"
     ]
    }
   ],
   "source": [
    "dataset_full['order_purchase_timestamp'] = pd.to_datetime(dataset_full['order_purchase_timestamp'])\n",
    "dataset_full.info()"
   ]
  },
  {
   "cell_type": "code",
   "execution_count": 52,
   "id": "36e025fb",
   "metadata": {},
   "outputs": [],
   "source": [
    "import datetime\n",
    "\n",
    "max_date = max(dataset_full['order_purchase_timestamp']) + datetime.timedelta(days=1)\n",
    "rfm_data = dataset_full.groupby('customer_unique_id').agg({\n",
    "    'order_purchase_timestamp': lambda x: (max_date - x.max()).days,\n",
    "    'customer_id':'count',\n",
    "    'price':'sum'\n",
    "})"
   ]
  },
  {
   "cell_type": "code",
   "execution_count": 53,
   "id": "86091166",
   "metadata": {},
   "outputs": [
    {
     "data": {
      "text/html": [
       "<div>\n",
       "<style scoped>\n",
       "    .dataframe tbody tr th:only-of-type {\n",
       "        vertical-align: middle;\n",
       "    }\n",
       "\n",
       "    .dataframe tbody tr th {\n",
       "        vertical-align: top;\n",
       "    }\n",
       "\n",
       "    .dataframe thead th {\n",
       "        text-align: right;\n",
       "    }\n",
       "</style>\n",
       "<table border=\"1\" class=\"dataframe\">\n",
       "  <thead>\n",
       "    <tr style=\"text-align: right;\">\n",
       "      <th></th>\n",
       "      <th>order_purchase_timestamp</th>\n",
       "      <th>customer_id</th>\n",
       "      <th>price</th>\n",
       "    </tr>\n",
       "    <tr>\n",
       "      <th>customer_unique_id</th>\n",
       "      <th></th>\n",
       "      <th></th>\n",
       "      <th></th>\n",
       "    </tr>\n",
       "  </thead>\n",
       "  <tbody>\n",
       "    <tr>\n",
       "      <th>0000366f3b9a7992bf8c76cfdf3221e2</th>\n",
       "      <td>161</td>\n",
       "      <td>1</td>\n",
       "      <td>129.90</td>\n",
       "    </tr>\n",
       "    <tr>\n",
       "      <th>0000b849f77a49e4a4ce2b2a4ca5be3f</th>\n",
       "      <td>164</td>\n",
       "      <td>1</td>\n",
       "      <td>18.90</td>\n",
       "    </tr>\n",
       "    <tr>\n",
       "      <th>0000f46a3911fa3c0805444483337064</th>\n",
       "      <td>586</td>\n",
       "      <td>1</td>\n",
       "      <td>69.00</td>\n",
       "    </tr>\n",
       "    <tr>\n",
       "      <th>0000f6ccb0745a6a4b88665a16c9f078</th>\n",
       "      <td>370</td>\n",
       "      <td>1</td>\n",
       "      <td>25.99</td>\n",
       "    </tr>\n",
       "    <tr>\n",
       "      <th>0004aac84e0df4da2b147fca70cf8255</th>\n",
       "      <td>337</td>\n",
       "      <td>1</td>\n",
       "      <td>180.00</td>\n",
       "    </tr>\n",
       "    <tr>\n",
       "      <th>...</th>\n",
       "      <td>...</td>\n",
       "      <td>...</td>\n",
       "      <td>...</td>\n",
       "    </tr>\n",
       "    <tr>\n",
       "      <th>fffcf5a5ff07b0908bd4e2dbc735a684</th>\n",
       "      <td>496</td>\n",
       "      <td>2</td>\n",
       "      <td>1570.00</td>\n",
       "    </tr>\n",
       "    <tr>\n",
       "      <th>fffea47cd6d3cc0a88bd621562a9d061</th>\n",
       "      <td>311</td>\n",
       "      <td>1</td>\n",
       "      <td>64.89</td>\n",
       "    </tr>\n",
       "    <tr>\n",
       "      <th>ffff371b4d645b6ecea244b27531430a</th>\n",
       "      <td>618</td>\n",
       "      <td>1</td>\n",
       "      <td>89.90</td>\n",
       "    </tr>\n",
       "    <tr>\n",
       "      <th>ffff5962728ec6157033ef9805bacc48</th>\n",
       "      <td>169</td>\n",
       "      <td>1</td>\n",
       "      <td>115.00</td>\n",
       "    </tr>\n",
       "    <tr>\n",
       "      <th>ffffd2657e2aad2907e67c3e9daecbeb</th>\n",
       "      <td>533</td>\n",
       "      <td>1</td>\n",
       "      <td>56.99</td>\n",
       "    </tr>\n",
       "  </tbody>\n",
       "</table>\n",
       "<p>96096 rows × 3 columns</p>\n",
       "</div>"
      ],
      "text/plain": [
       "                                  order_purchase_timestamp  customer_id  \\\n",
       "customer_unique_id                                                        \n",
       "0000366f3b9a7992bf8c76cfdf3221e2                       161            1   \n",
       "0000b849f77a49e4a4ce2b2a4ca5be3f                       164            1   \n",
       "0000f46a3911fa3c0805444483337064                       586            1   \n",
       "0000f6ccb0745a6a4b88665a16c9f078                       370            1   \n",
       "0004aac84e0df4da2b147fca70cf8255                       337            1   \n",
       "...                                                    ...          ...   \n",
       "fffcf5a5ff07b0908bd4e2dbc735a684                       496            2   \n",
       "fffea47cd6d3cc0a88bd621562a9d061                       311            1   \n",
       "ffff371b4d645b6ecea244b27531430a                       618            1   \n",
       "ffff5962728ec6157033ef9805bacc48                       169            1   \n",
       "ffffd2657e2aad2907e67c3e9daecbeb                       533            1   \n",
       "\n",
       "                                    price  \n",
       "customer_unique_id                         \n",
       "0000366f3b9a7992bf8c76cfdf3221e2   129.90  \n",
       "0000b849f77a49e4a4ce2b2a4ca5be3f    18.90  \n",
       "0000f46a3911fa3c0805444483337064    69.00  \n",
       "0000f6ccb0745a6a4b88665a16c9f078    25.99  \n",
       "0004aac84e0df4da2b147fca70cf8255   180.00  \n",
       "...                                   ...  \n",
       "fffcf5a5ff07b0908bd4e2dbc735a684  1570.00  \n",
       "fffea47cd6d3cc0a88bd621562a9d061    64.89  \n",
       "ffff371b4d645b6ecea244b27531430a    89.90  \n",
       "ffff5962728ec6157033ef9805bacc48   115.00  \n",
       "ffffd2657e2aad2907e67c3e9daecbeb    56.99  \n",
       "\n",
       "[96096 rows x 3 columns]"
      ]
     },
     "execution_count": 53,
     "metadata": {},
     "output_type": "execute_result"
    }
   ],
   "source": [
    "rfm_data"
   ]
  },
  {
   "cell_type": "code",
   "execution_count": 54,
   "id": "46010744",
   "metadata": {},
   "outputs": [],
   "source": [
    "rfm_data.columns = ['recency','frequency','monetary']"
   ]
  },
  {
   "cell_type": "code",
   "execution_count": 55,
   "id": "3d1c5e4e",
   "metadata": {},
   "outputs": [],
   "source": [
    "rfm_data.to_csv('rfm.csv')"
   ]
  },
  {
   "cell_type": "code",
   "execution_count": 56,
   "id": "cec5c6eb",
   "metadata": {},
   "outputs": [
    {
     "name": "stdout",
     "output_type": "stream",
     "text": [
      "<class 'pandas.core.frame.DataFrame'>\n",
      "Index: 94720 entries, 0000366f3b9a7992bf8c76cfdf3221e2 to ffffd2657e2aad2907e67c3e9daecbeb\n",
      "Data columns (total 11 columns):\n",
      " #   Column                      Non-Null Count  Dtype  \n",
      "---  ------                      --------------  -----  \n",
      " 0   mean_command_price          94720 non-null  float64\n",
      " 1   mean_command_freight_value  94720 non-null  float64\n",
      " 2   articles_per_cart           94720 non-null  float64\n",
      " 3   order_per_client            94720 non-null  float64\n",
      " 4   prefered_payment            94720 non-null  object \n",
      " 5   mean_review                 94720 non-null  float64\n",
      " 6   cancel_ratio                94720 non-null  float64\n",
      " 7   payment_installments        94720 non-null  float64\n",
      " 8   recency                     94720 non-null  int64  \n",
      " 9   frequency                   94720 non-null  int64  \n",
      " 10  monetary                    94720 non-null  float64\n",
      "dtypes: float64(8), int64(2), object(1)\n",
      "memory usage: 8.7+ MB\n"
     ]
    }
   ],
   "source": [
    "dataset = pd.concat([price_mean_cart, article_per_mean_cart, order_per_client, prefered_payment, mean_review, cancel_ratio, payment_installments, rfm_data], axis=1)\n",
    "dataset.dropna(inplace=True)\n",
    "dataset.info()"
   ]
  },
  {
   "cell_type": "markdown",
   "id": "12873e00",
   "metadata": {},
   "source": [
    "# Export du dataset nettoyé"
   ]
  },
  {
   "cell_type": "code",
   "execution_count": 57,
   "id": "047f13db",
   "metadata": {},
   "outputs": [
    {
     "data": {
      "text/html": [
       "<div>\n",
       "<style scoped>\n",
       "    .dataframe tbody tr th:only-of-type {\n",
       "        vertical-align: middle;\n",
       "    }\n",
       "\n",
       "    .dataframe tbody tr th {\n",
       "        vertical-align: top;\n",
       "    }\n",
       "\n",
       "    .dataframe thead th {\n",
       "        text-align: right;\n",
       "    }\n",
       "</style>\n",
       "<table border=\"1\" class=\"dataframe\">\n",
       "  <thead>\n",
       "    <tr style=\"text-align: right;\">\n",
       "      <th></th>\n",
       "      <th>mean_command_price</th>\n",
       "      <th>mean_command_freight_value</th>\n",
       "      <th>articles_per_cart</th>\n",
       "      <th>order_per_client</th>\n",
       "      <th>prefered_payment</th>\n",
       "      <th>mean_review</th>\n",
       "      <th>cancel_ratio</th>\n",
       "      <th>payment_installments</th>\n",
       "      <th>recency</th>\n",
       "      <th>frequency</th>\n",
       "      <th>monetary</th>\n",
       "    </tr>\n",
       "    <tr>\n",
       "      <th>customer_unique_id</th>\n",
       "      <th></th>\n",
       "      <th></th>\n",
       "      <th></th>\n",
       "      <th></th>\n",
       "      <th></th>\n",
       "      <th></th>\n",
       "      <th></th>\n",
       "      <th></th>\n",
       "      <th></th>\n",
       "      <th></th>\n",
       "      <th></th>\n",
       "    </tr>\n",
       "  </thead>\n",
       "  <tbody>\n",
       "    <tr>\n",
       "      <th>0000366f3b9a7992bf8c76cfdf3221e2</th>\n",
       "      <td>129.90</td>\n",
       "      <td>12.00</td>\n",
       "      <td>1.0</td>\n",
       "      <td>1.0</td>\n",
       "      <td>credit_card</td>\n",
       "      <td>5.0</td>\n",
       "      <td>0.0</td>\n",
       "      <td>8.0</td>\n",
       "      <td>161</td>\n",
       "      <td>1</td>\n",
       "      <td>129.90</td>\n",
       "    </tr>\n",
       "    <tr>\n",
       "      <th>0000b849f77a49e4a4ce2b2a4ca5be3f</th>\n",
       "      <td>18.90</td>\n",
       "      <td>8.29</td>\n",
       "      <td>1.0</td>\n",
       "      <td>1.0</td>\n",
       "      <td>credit_card</td>\n",
       "      <td>4.0</td>\n",
       "      <td>0.0</td>\n",
       "      <td>1.0</td>\n",
       "      <td>164</td>\n",
       "      <td>1</td>\n",
       "      <td>18.90</td>\n",
       "    </tr>\n",
       "    <tr>\n",
       "      <th>0000f46a3911fa3c0805444483337064</th>\n",
       "      <td>69.00</td>\n",
       "      <td>17.22</td>\n",
       "      <td>1.0</td>\n",
       "      <td>1.0</td>\n",
       "      <td>credit_card</td>\n",
       "      <td>3.0</td>\n",
       "      <td>0.0</td>\n",
       "      <td>8.0</td>\n",
       "      <td>586</td>\n",
       "      <td>1</td>\n",
       "      <td>69.00</td>\n",
       "    </tr>\n",
       "    <tr>\n",
       "      <th>0000f6ccb0745a6a4b88665a16c9f078</th>\n",
       "      <td>25.99</td>\n",
       "      <td>17.63</td>\n",
       "      <td>1.0</td>\n",
       "      <td>1.0</td>\n",
       "      <td>credit_card</td>\n",
       "      <td>4.0</td>\n",
       "      <td>0.0</td>\n",
       "      <td>4.0</td>\n",
       "      <td>370</td>\n",
       "      <td>1</td>\n",
       "      <td>25.99</td>\n",
       "    </tr>\n",
       "    <tr>\n",
       "      <th>0004aac84e0df4da2b147fca70cf8255</th>\n",
       "      <td>180.00</td>\n",
       "      <td>16.89</td>\n",
       "      <td>1.0</td>\n",
       "      <td>1.0</td>\n",
       "      <td>credit_card</td>\n",
       "      <td>5.0</td>\n",
       "      <td>0.0</td>\n",
       "      <td>6.0</td>\n",
       "      <td>337</td>\n",
       "      <td>1</td>\n",
       "      <td>180.00</td>\n",
       "    </tr>\n",
       "    <tr>\n",
       "      <th>...</th>\n",
       "      <td>...</td>\n",
       "      <td>...</td>\n",
       "      <td>...</td>\n",
       "      <td>...</td>\n",
       "      <td>...</td>\n",
       "      <td>...</td>\n",
       "      <td>...</td>\n",
       "      <td>...</td>\n",
       "      <td>...</td>\n",
       "      <td>...</td>\n",
       "      <td>...</td>\n",
       "    </tr>\n",
       "    <tr>\n",
       "      <th>fffcf5a5ff07b0908bd4e2dbc735a684</th>\n",
       "      <td>1570.00</td>\n",
       "      <td>497.42</td>\n",
       "      <td>2.0</td>\n",
       "      <td>1.0</td>\n",
       "      <td>credit_card</td>\n",
       "      <td>5.0</td>\n",
       "      <td>0.0</td>\n",
       "      <td>10.0</td>\n",
       "      <td>496</td>\n",
       "      <td>2</td>\n",
       "      <td>1570.00</td>\n",
       "    </tr>\n",
       "    <tr>\n",
       "      <th>fffea47cd6d3cc0a88bd621562a9d061</th>\n",
       "      <td>64.89</td>\n",
       "      <td>19.69</td>\n",
       "      <td>1.0</td>\n",
       "      <td>1.0</td>\n",
       "      <td>credit_card</td>\n",
       "      <td>4.0</td>\n",
       "      <td>0.0</td>\n",
       "      <td>1.0</td>\n",
       "      <td>311</td>\n",
       "      <td>1</td>\n",
       "      <td>64.89</td>\n",
       "    </tr>\n",
       "    <tr>\n",
       "      <th>ffff371b4d645b6ecea244b27531430a</th>\n",
       "      <td>89.90</td>\n",
       "      <td>22.56</td>\n",
       "      <td>1.0</td>\n",
       "      <td>1.0</td>\n",
       "      <td>credit_card</td>\n",
       "      <td>5.0</td>\n",
       "      <td>0.0</td>\n",
       "      <td>1.0</td>\n",
       "      <td>618</td>\n",
       "      <td>1</td>\n",
       "      <td>89.90</td>\n",
       "    </tr>\n",
       "    <tr>\n",
       "      <th>ffff5962728ec6157033ef9805bacc48</th>\n",
       "      <td>115.00</td>\n",
       "      <td>18.69</td>\n",
       "      <td>1.0</td>\n",
       "      <td>1.0</td>\n",
       "      <td>credit_card</td>\n",
       "      <td>5.0</td>\n",
       "      <td>0.0</td>\n",
       "      <td>5.0</td>\n",
       "      <td>169</td>\n",
       "      <td>1</td>\n",
       "      <td>115.00</td>\n",
       "    </tr>\n",
       "    <tr>\n",
       "      <th>ffffd2657e2aad2907e67c3e9daecbeb</th>\n",
       "      <td>56.99</td>\n",
       "      <td>14.57</td>\n",
       "      <td>1.0</td>\n",
       "      <td>1.0</td>\n",
       "      <td>credit_card</td>\n",
       "      <td>5.0</td>\n",
       "      <td>0.0</td>\n",
       "      <td>4.0</td>\n",
       "      <td>533</td>\n",
       "      <td>1</td>\n",
       "      <td>56.99</td>\n",
       "    </tr>\n",
       "  </tbody>\n",
       "</table>\n",
       "<p>94720 rows × 11 columns</p>\n",
       "</div>"
      ],
      "text/plain": [
       "                                  mean_command_price  \\\n",
       "customer_unique_id                                     \n",
       "0000366f3b9a7992bf8c76cfdf3221e2              129.90   \n",
       "0000b849f77a49e4a4ce2b2a4ca5be3f               18.90   \n",
       "0000f46a3911fa3c0805444483337064               69.00   \n",
       "0000f6ccb0745a6a4b88665a16c9f078               25.99   \n",
       "0004aac84e0df4da2b147fca70cf8255              180.00   \n",
       "...                                              ...   \n",
       "fffcf5a5ff07b0908bd4e2dbc735a684             1570.00   \n",
       "fffea47cd6d3cc0a88bd621562a9d061               64.89   \n",
       "ffff371b4d645b6ecea244b27531430a               89.90   \n",
       "ffff5962728ec6157033ef9805bacc48              115.00   \n",
       "ffffd2657e2aad2907e67c3e9daecbeb               56.99   \n",
       "\n",
       "                                  mean_command_freight_value  \\\n",
       "customer_unique_id                                             \n",
       "0000366f3b9a7992bf8c76cfdf3221e2                       12.00   \n",
       "0000b849f77a49e4a4ce2b2a4ca5be3f                        8.29   \n",
       "0000f46a3911fa3c0805444483337064                       17.22   \n",
       "0000f6ccb0745a6a4b88665a16c9f078                       17.63   \n",
       "0004aac84e0df4da2b147fca70cf8255                       16.89   \n",
       "...                                                      ...   \n",
       "fffcf5a5ff07b0908bd4e2dbc735a684                      497.42   \n",
       "fffea47cd6d3cc0a88bd621562a9d061                       19.69   \n",
       "ffff371b4d645b6ecea244b27531430a                       22.56   \n",
       "ffff5962728ec6157033ef9805bacc48                       18.69   \n",
       "ffffd2657e2aad2907e67c3e9daecbeb                       14.57   \n",
       "\n",
       "                                  articles_per_cart  order_per_client  \\\n",
       "customer_unique_id                                                      \n",
       "0000366f3b9a7992bf8c76cfdf3221e2                1.0               1.0   \n",
       "0000b849f77a49e4a4ce2b2a4ca5be3f                1.0               1.0   \n",
       "0000f46a3911fa3c0805444483337064                1.0               1.0   \n",
       "0000f6ccb0745a6a4b88665a16c9f078                1.0               1.0   \n",
       "0004aac84e0df4da2b147fca70cf8255                1.0               1.0   \n",
       "...                                             ...               ...   \n",
       "fffcf5a5ff07b0908bd4e2dbc735a684                2.0               1.0   \n",
       "fffea47cd6d3cc0a88bd621562a9d061                1.0               1.0   \n",
       "ffff371b4d645b6ecea244b27531430a                1.0               1.0   \n",
       "ffff5962728ec6157033ef9805bacc48                1.0               1.0   \n",
       "ffffd2657e2aad2907e67c3e9daecbeb                1.0               1.0   \n",
       "\n",
       "                                 prefered_payment  mean_review  cancel_ratio  \\\n",
       "customer_unique_id                                                             \n",
       "0000366f3b9a7992bf8c76cfdf3221e2      credit_card          5.0           0.0   \n",
       "0000b849f77a49e4a4ce2b2a4ca5be3f      credit_card          4.0           0.0   \n",
       "0000f46a3911fa3c0805444483337064      credit_card          3.0           0.0   \n",
       "0000f6ccb0745a6a4b88665a16c9f078      credit_card          4.0           0.0   \n",
       "0004aac84e0df4da2b147fca70cf8255      credit_card          5.0           0.0   \n",
       "...                                           ...          ...           ...   \n",
       "fffcf5a5ff07b0908bd4e2dbc735a684      credit_card          5.0           0.0   \n",
       "fffea47cd6d3cc0a88bd621562a9d061      credit_card          4.0           0.0   \n",
       "ffff371b4d645b6ecea244b27531430a      credit_card          5.0           0.0   \n",
       "ffff5962728ec6157033ef9805bacc48      credit_card          5.0           0.0   \n",
       "ffffd2657e2aad2907e67c3e9daecbeb      credit_card          5.0           0.0   \n",
       "\n",
       "                                  payment_installments  recency  frequency  \\\n",
       "customer_unique_id                                                           \n",
       "0000366f3b9a7992bf8c76cfdf3221e2                   8.0      161          1   \n",
       "0000b849f77a49e4a4ce2b2a4ca5be3f                   1.0      164          1   \n",
       "0000f46a3911fa3c0805444483337064                   8.0      586          1   \n",
       "0000f6ccb0745a6a4b88665a16c9f078                   4.0      370          1   \n",
       "0004aac84e0df4da2b147fca70cf8255                   6.0      337          1   \n",
       "...                                                ...      ...        ...   \n",
       "fffcf5a5ff07b0908bd4e2dbc735a684                  10.0      496          2   \n",
       "fffea47cd6d3cc0a88bd621562a9d061                   1.0      311          1   \n",
       "ffff371b4d645b6ecea244b27531430a                   1.0      618          1   \n",
       "ffff5962728ec6157033ef9805bacc48                   5.0      169          1   \n",
       "ffffd2657e2aad2907e67c3e9daecbeb                   4.0      533          1   \n",
       "\n",
       "                                  monetary  \n",
       "customer_unique_id                          \n",
       "0000366f3b9a7992bf8c76cfdf3221e2    129.90  \n",
       "0000b849f77a49e4a4ce2b2a4ca5be3f     18.90  \n",
       "0000f46a3911fa3c0805444483337064     69.00  \n",
       "0000f6ccb0745a6a4b88665a16c9f078     25.99  \n",
       "0004aac84e0df4da2b147fca70cf8255    180.00  \n",
       "...                                    ...  \n",
       "fffcf5a5ff07b0908bd4e2dbc735a684   1570.00  \n",
       "fffea47cd6d3cc0a88bd621562a9d061     64.89  \n",
       "ffff371b4d645b6ecea244b27531430a     89.90  \n",
       "ffff5962728ec6157033ef9805bacc48    115.00  \n",
       "ffffd2657e2aad2907e67c3e9daecbeb     56.99  \n",
       "\n",
       "[94720 rows x 11 columns]"
      ]
     },
     "execution_count": 57,
     "metadata": {},
     "output_type": "execute_result"
    }
   ],
   "source": [
    "dataset.to_csv('clean_dataset.csv')\n",
    "dataset"
   ]
  }
 ],
 "metadata": {
  "kernelspec": {
   "display_name": "machine-learning",
   "language": "python",
   "name": "machine-learning"
  },
  "language_info": {
   "codemirror_mode": {
    "name": "ipython",
    "version": 3
   },
   "file_extension": ".py",
   "mimetype": "text/x-python",
   "name": "python",
   "nbconvert_exporter": "python",
   "pygments_lexer": "ipython3",
   "version": "3.9.9"
  }
 },
 "nbformat": 4,
 "nbformat_minor": 5
}
